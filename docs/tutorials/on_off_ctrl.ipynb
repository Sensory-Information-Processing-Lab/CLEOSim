{
 "cells": [
  {
   "cell_type": "markdown",
   "metadata": {},
   "source": [
    "# On-off control\n",
    "Here we will see how to set up a minimum, working closed loop with a very simple threshold-triggered control scheme.\n",
    "\n",
    "Preamble:"
   ]
  },
  {
   "cell_type": "code",
   "execution_count": 1,
   "metadata": {
    "execution": {
     "iopub.execute_input": "2022-02-01T18:22:00.750813Z",
     "iopub.status.busy": "2022-02-01T18:22:00.750228Z",
     "iopub.status.idle": "2022-02-01T18:22:02.731897Z",
     "shell.execute_reply": "2022-02-01T18:22:02.732726Z"
    }
   },
   "outputs": [],
   "source": [
    "%load_ext autoreload\n",
    "%autoreload 2\n",
    "\n",
    "from brian2 import *\n",
    "from cleosim import *\n",
    "\n",
    "import matplotlib.pyplot as plt\n",
    "\n",
    "# the default cython compilation target isn't worth it for \n",
    "# this trivial example\n",
    "prefs.codegen.target = \"numpy\""
   ]
  },
  {
   "cell_type": "markdown",
   "metadata": {},
   "source": [
    "## Set up network\n",
    "We will use a simple leaky integrate-and-fire network with Poisson spike train input. We use Brian's standard `SpikeMonitor` to view resulting spikes here for simplicity, but see the electrodes tutorial for a more realistic electrode recording scheme."
   ]
  },
  {
   "cell_type": "code",
   "execution_count": 2,
   "metadata": {
    "execution": {
     "iopub.execute_input": "2022-02-01T18:22:02.741636Z",
     "iopub.status.busy": "2022-02-01T18:22:02.740489Z",
     "iopub.status.idle": "2022-02-01T18:22:03.107112Z",
     "shell.execute_reply": "2022-02-01T18:22:03.106746Z"
    },
    "tags": []
   },
   "outputs": [
    {
     "name": "stdout",
     "output_type": "stream",
     "text": [
      "Recorded population's equations:\n"
     ]
    },
    {
     "data": {
      "text/latex": [
       "\\begin{align*}\\frac{\\mathrm{d}v}{\\mathrm{d}t} &= \\frac{I Rm - 70 mV - v}{\\tau} && \\text{(unit of $v$: $\\mathrm{V}$)}\\\\\n",
       "\\tau &&& \\text{(unit: $\\mathrm{s}$)}\\\\\n",
       "Rm &&& \\text{(unit: $\\mathrm{ohm}$)}\\\\\n",
       "I &&& \\text{(unit: $\\mathrm{A}$)}\\end{align*}"
      ],
      "text/plain": [
       "dv/dt = (I*Rm - 70*mV - v)/tau : volt\n",
       "tau : second\n",
       "Rm : ohm\n",
       "I : amp\n"
      ]
     },
     "execution_count": 2,
     "metadata": {},
     "output_type": "execute_result"
    }
   ],
   "source": [
    "n = 10\n",
    "population = NeuronGroup(n, '''\n",
    "            dv/dt = (-v - 70*mV + Rm*I) / tau : volt\n",
    "            tau: second\n",
    "            Rm: ohm\n",
    "            I: amp''',\n",
    "        threshold='v>-50*mV',\n",
    "        reset='v=-70*mV'\n",
    ")\n",
    "population.tau = 10*ms\n",
    "population.Rm = 100*Mohm\n",
    "population.I = 0*mA\n",
    "population.v = -70*mV\n",
    "\n",
    "input_group = PoissonGroup(n, np.linspace(0, 100, n)*Hz + 10*Hz)\n",
    "\n",
    "S = Synapses(input_group, population, on_pre='v+=5*mV')\n",
    "S.connect(condition='abs(i-j)<=3')\n",
    "\n",
    "pop_mon = SpikeMonitor(population)\n",
    "\n",
    "net = Network([population, input_group,S, pop_mon])\n",
    "\n",
    "print(\"Recorded population's equations:\")\n",
    "population.user_equations"
   ]
  },
  {
   "cell_type": "markdown",
   "metadata": {},
   "source": [
    "## Run simulation"
   ]
  },
  {
   "cell_type": "code",
   "execution_count": 3,
   "metadata": {
    "execution": {
     "iopub.execute_input": "2022-02-01T18:22:03.111414Z",
     "iopub.status.busy": "2022-02-01T18:22:03.110764Z",
     "iopub.status.idle": "2022-02-01T18:22:03.393085Z",
     "shell.execute_reply": "2022-02-01T18:22:03.392793Z"
    },
    "tags": []
   },
   "outputs": [
    {
     "name": "stderr",
     "output_type": "stream",
     "text": [
      "INFO       No numerical integration method specified for group 'neurongroup', using method 'exact' (took 0.05s). [brian2.stateupdaters.base.method_choice]\n"
     ]
    }
   ],
   "source": [
    "net.run(200*ms)"
   ]
  },
  {
   "cell_type": "code",
   "execution_count": 4,
   "metadata": {
    "execution": {
     "iopub.execute_input": "2022-02-01T18:22:03.399796Z",
     "iopub.status.busy": "2022-02-01T18:22:03.398704Z",
     "iopub.status.idle": "2022-02-01T18:22:03.667414Z",
     "shell.execute_reply": "2022-02-01T18:22:03.667698Z"
    }
   },
   "outputs": [
    {
     "data": {
      "image/png": "[encoded data removed]",
      "text/plain": [
       "<Figure size 432x288 with 1 Axes>"
      ]
     },
     "metadata": {
      "needs_background": "light"
     },
     "output_type": "display_data"
    }
   ],
   "source": [
    "plt.scatter(pop_mon.t / ms, pop_mon.i, marker='|'); \n",
    "plt.title('Population Spiking'); plt.ylabel('neuron index'); plt.xlabel('time (ms)');"
   ]
  },
  {
   "cell_type": "markdown",
   "metadata": {},
   "source": [
    "Because lower neuron indices receive very little input, we see no spikes for neuron 0. Let's change that with closed-loop control."
   ]
  },
  {
   "cell_type": "markdown",
   "metadata": {},
   "source": [
    "## IO processor setup\n",
    "We use the `IOProcessor` class to define interactions with the network.\n",
    "To achieve our goal of making neuron 0 fire, we'll use a contrived, simplistic setup where\n",
    "1.  the recorder reports the voltage of a given neuron (of index 5 in our case),\n",
    "2.  the controller outputs a pulse whenever that voltage is below a certain threshold, and\n",
    "3.  the stimulator applies that pulse to the specified neuron. \n",
    "\n",
    "So if everything is wired correctly, we'll see bursts of activity in just the first neuron."
   ]
  },
  {
   "cell_type": "code",
   "execution_count": 5,
   "metadata": {
    "execution": {
     "iopub.execute_input": "2022-02-01T18:22:03.671627Z",
     "iopub.status.busy": "2022-02-01T18:22:03.671247Z",
     "iopub.status.idle": "2022-02-01T18:22:03.688234Z",
     "shell.execute_reply": "2022-02-01T18:22:03.687789Z"
    }
   },
   "outputs": [],
   "source": [
    "from cleosim.recorders import RateRecorder, VoltageRecorder\n",
    "from cleosim.stimulators import StateVariableSetter\n",
    "\n",
    "i_rec = int(n / 2)\n",
    "i_ctrl = 0\n",
    "sim = CLSimulator(net)\n",
    "v_rec = VoltageRecorder(\"rec\")\n",
    "sim.inject_recorder(v_rec, population[i_rec])\n",
    "sim.inject_stimulator(\n",
    "    StateVariableSetter(\"stim\", variable_to_ctrl=\"I\", unit=nA), population[i_ctrl]\n",
    ")"
   ]
  },
  {
   "cell_type": "markdown",
   "metadata": {},
   "source": [
    "We need to implement the `LatencyIOProcessor` object. For a more sophisticated case we'd use `ProcessingBlock` objects to decompose \n",
    "the computation in the `process` function."
   ]
  },
  {
   "cell_type": "code",
   "execution_count": 6,
   "metadata": {
    "execution": {
     "iopub.execute_input": "2022-02-01T18:22:03.693798Z",
     "iopub.status.busy": "2022-02-01T18:22:03.690198Z",
     "iopub.status.idle": "2022-02-01T18:22:03.708466Z",
     "shell.execute_reply": "2022-02-01T18:22:03.708751Z"
    }
   },
   "outputs": [],
   "source": [
    "from cleosim.processing import LatencyIOProcessor\n",
    "\n",
    "trigger_threshold = -60*mV\n",
    "class ReactivePulseIOProcessor(LatencyIOProcessor):\n",
    "    def __init__(self, pulse_current=1):\n",
    "        super().__init__(sample_period_ms=1)\n",
    "        self.pulse_current = pulse_current\n",
    "        self.out = {}\n",
    "\n",
    "    def process(self, state_dict, time_ms):\n",
    "        v = state_dict['rec']\n",
    "        if v is not None and v < trigger_threshold:\n",
    "            self.out['stim'] = self.pulse_current\n",
    "        else:\n",
    "            self.out['stim'] = 0\n",
    "\n",
    "        return (self.out, time_ms)\n",
    "\n",
    "sim.set_io_processor(ReactivePulseIOProcessor(pulse_current=1))"
   ]
  },
  {
   "cell_type": "markdown",
   "metadata": {},
   "source": [
    "And run the simulation:"
   ]
  },
  {
   "cell_type": "code",
   "execution_count": 7,
   "metadata": {
    "execution": {
     "iopub.execute_input": "2022-02-01T18:22:03.712631Z",
     "iopub.status.busy": "2022-02-01T18:22:03.711929Z",
     "iopub.status.idle": "2022-02-01T18:22:04.196325Z",
     "shell.execute_reply": "2022-02-01T18:22:04.196798Z"
    }
   },
   "outputs": [],
   "source": [
    "sim.run(200*ms)"
   ]
  },
  {
   "cell_type": "code",
   "execution_count": 8,
   "metadata": {
    "execution": {
     "iopub.execute_input": "2022-02-01T18:22:04.201012Z",
     "iopub.status.busy": "2022-02-01T18:22:04.200661Z",
     "iopub.status.idle": "2022-02-01T18:22:04.553740Z",
     "shell.execute_reply": "2022-02-01T18:22:04.554089Z"
    }
   },
   "outputs": [
    {
     "data": {
      "image/png": "[encoded data removed]",
      "text/plain": [
       "<Figure size 432x288 with 2 Axes>"
      ]
     },
     "metadata": {
      "needs_background": "light"
     },
     "output_type": "display_data"
    }
   ],
   "source": [
    "fig, (ax1, ax2) = plt.subplots(2, 1, sharex=True)\n",
    "ax1.plot(pop_mon.t / ms, pop_mon.i, \"|\")\n",
    "ax1.plot(\n",
    "    pop_mon.t[pop_mon.i == i_ctrl] / ms,\n",
    "    pop_mon.i[pop_mon.i == i_ctrl],\n",
    "    \"|\",\n",
    "    c=\"xkcd:hot pink\",\n",
    ")\n",
    "ax1.set(title=\"population spiking\", ylabel=\"neuron index\", xlabel=\"time (ms)\")\n",
    "ax2.fill_between(\n",
    "    v_rec.mon.t / ms, (v_rec.mon.v.T < trigger_threshold)[:, 0], color=\"xkcd:hot pink\"\n",
    ")\n",
    "ax2.set(title=\"pulses\", xlabel=\"time (ms)\", ylabel=\"pulse on/off (1/0)\", yticks=[0, 1])\n",
    "plt.tight_layout()"
   ]
  },
  {
   "cell_type": "markdown",
   "metadata": {},
   "source": [
    "Yes, we see the IO processor triggering pulses as expected.\n",
    "And here's a plot of neuron 5's voltage to confirm that those pulses\n",
    "are indeed where we expect them to be, whenever the voltage is\n",
    "below -60 mV."
   ]
  },
  {
   "cell_type": "code",
   "execution_count": 9,
   "metadata": {
    "execution": {
     "iopub.execute_input": "2022-02-01T18:22:04.569662Z",
     "iopub.status.busy": "2022-02-01T18:22:04.561049Z",
     "iopub.status.idle": "2022-02-01T18:22:04.869788Z",
     "shell.execute_reply": "2022-02-01T18:22:04.869372Z"
    }
   },
   "outputs": [
    {
     "data": {
      "image/png": "[encoded data removed]",
      "text/plain": [
       "<Figure size 432x288 with 1 Axes>"
      ]
     },
     "metadata": {
      "needs_background": "light"
     },
     "output_type": "display_data"
    }
   ],
   "source": [
    "fig, ax = plt.subplots()\n",
    "ax.set(title=f\"Voltage for neuron {i_rec}\", ylabel=\"v (mV)\", xlabel='time (ms)')\n",
    "ax.plot(v_rec.mon.t/ms, v_rec.mon.v.T / mV);\n",
    "ax.hlines(-60, 0, 400, color='xkcd:hot pink');\n",
    "ax.legend(['v', 'threshold'], loc='upper right');"
   ]
  },
  {
   "cell_type": "markdown",
   "metadata": {},
   "source": [
    "## Conclusion\n",
    "In this tutorial we've seen the basics of configuring an `IOProcessor` to implement a closed-loop intervention on a Brian network simulation."
   ]
  }
 ],
 "metadata": {
  "interpreter": {
   "hash": "70f31c3bad76fc31f3f25df3cd9648492bf05854bb5705fb278e1ec2dbb567d4"
  },
  "kernelspec": {
   "display_name": "Python 3.7.10 64-bit ('brian2_py37': conda)",
   "name": "python3"
  },
  "language_info": {
   "codemirror_mode": {
    "name": "ipython",
    "version": 3
   },
   "file_extension": ".py",
   "mimetype": "text/x-python",
   "name": "python",
   "nbconvert_exporter": "python",
   "pygments_lexer": "ipython3",
   "version": "3.8.12"
  },
  "metadata": {
   "interpreter": {
    "hash": "9759b380a3806d751a7bc0e9dd82ec00692d794861a15fb59a5817705f6f8880"
   }
  }
 },
 "nbformat": 4,
 "nbformat_minor": 2
}
