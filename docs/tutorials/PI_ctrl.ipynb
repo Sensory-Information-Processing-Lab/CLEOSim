{
 "cells": [
  {
   "cell_type": "markdown",
   "metadata": {},
   "source": [
    "# PI control\n",
    "In this tutorial we'll introduce\n",
    "1. PI control, a commonly used model-free control method,\n",
    "2. the concept of decomposing the `IOProcessor`'s computation into `ProcessingBlock`s, and\n",
    "3. modeling computation delays on those blocks to reflect hardware and algorithmic speed limitations present in a real experiment.\n",
    "\n",
    "Preamble:"
   ]
  },
  {
   "cell_type": "code",
   "execution_count": 1,
   "metadata": {
    "execution": {
     "iopub.execute_input": "2022-08-12T05:39:09.651777Z",
     "iopub.status.busy": "2022-08-12T05:39:09.651308Z",
     "iopub.status.idle": "2022-08-12T05:39:11.044791Z",
     "shell.execute_reply": "2022-08-12T05:39:11.044213Z"
    }
   },
   "outputs": [],
   "source": [
    "from brian2 import *\n",
    "import matplotlib.pyplot as plt\n",
    "from cleosim import *\n",
    "\n",
    "utilities.style_plots_for_docs()\n",
    "\n",
    "np.random.seed(7000)\n",
    "\n",
    "# the default cython compilation target isn't worth it for \n",
    "# this trivial example\n",
    "prefs.codegen.target = \"numpy\""
   ]
  },
  {
   "cell_type": "markdown",
   "metadata": {},
   "source": [
    "## Create the Brian network\n",
    "We'll create a population of 10 LIF neurons mainly driven by feedforward input but with some recurrent connections as well."
   ]
  },
  {
   "cell_type": "code",
   "execution_count": 2,
   "metadata": {
    "execution": {
     "iopub.execute_input": "2022-08-12T05:39:11.047929Z",
     "iopub.status.busy": "2022-08-12T05:39:11.047354Z",
     "iopub.status.idle": "2022-08-12T05:39:11.244491Z",
     "shell.execute_reply": "2022-08-12T05:39:11.243926Z"
    }
   },
   "outputs": [
    {
     "data": {
      "text/latex": [
       "\\begin{align*}\\frac{\\mathrm{d}v}{\\mathrm{d}t} &= \\frac{I Rm - 70 mV - v}{\\tau} && \\text{(unit of $v$: $\\mathrm{V}$)}\\\\\n",
       "I &&& \\text{(unit: $\\mathrm{A}$)}\\\\\n",
       "Rm &&& \\text{(unit: $\\mathrm{ohm}$)}\\\\\n",
       "\\tau &&& \\text{(unit: $\\mathrm{s}$)}\\end{align*}"
      ],
      "text/plain": [
       "dv/dt = (I*Rm - 70*mV - v)/tau : volt\n",
       "I : amp\n",
       "Rm : ohm\n",
       "tau : second\n"
      ]
     },
     "execution_count": 2,
     "metadata": {},
     "output_type": "execute_result"
    }
   ],
   "source": [
    "n = 10\n",
    "population = NeuronGroup(n, '''\n",
    "            dv/dt = (-v - 70*mV + Rm*I) / tau : volt\n",
    "            tau: second\n",
    "            Rm: ohm\n",
    "            I: amp''',\n",
    "        threshold='v>-50*mV',\n",
    "        reset='v=-70*mV'\n",
    ")\n",
    "population.tau = 10*ms\n",
    "population.Rm = 100*Mohm\n",
    "population.I = 0*mA\n",
    "population.v = -70*mV\n",
    "\n",
    "input_group = PoissonGroup(n, np.linspace(20, 200, n)*Hz)\n",
    "\n",
    "S = Synapses(input_group, population, on_pre='v+=5*mV')\n",
    "S.connect(condition=f'abs(i-j)<={3}')\n",
    "S2 = Synapses(population, population, on_pre='v+=2*mV')\n",
    "S2.connect(p=0.2)\n",
    "\n",
    "pop_mon = SpikeMonitor(population)\n",
    "\n",
    "net = Network(population, input_group, S, S2, pop_mon)\n",
    "population.equations"
   ]
  },
  {
   "cell_type": "markdown",
   "metadata": {},
   "source": [
    "## Run simulation without control:"
   ]
  },
  {
   "cell_type": "code",
   "execution_count": 3,
   "metadata": {
    "execution": {
     "iopub.execute_input": "2022-08-12T05:39:11.261233Z",
     "iopub.status.busy": "2022-08-12T05:39:11.260852Z",
     "iopub.status.idle": "2022-08-12T05:39:11.400926Z",
     "shell.execute_reply": "2022-08-12T05:39:11.400129Z"
    },
    "tags": []
   },
   "outputs": [
    {
     "name": "stderr",
     "output_type": "stream",
     "text": [
      "INFO       No numerical integration method specified for group 'neurongroup', using method 'exact' (took 0.03s). [brian2.stateupdaters.base.method_choice]\n"
     ]
    }
   ],
   "source": [
    "net.run(100*ms)"
   ]
  },
  {
   "cell_type": "code",
   "execution_count": 4,
   "metadata": {
    "execution": {
     "iopub.execute_input": "2022-08-12T05:39:11.403156Z",
     "iopub.status.busy": "2022-08-12T05:39:11.402933Z",
     "iopub.status.idle": "2022-08-12T05:39:11.638904Z",
     "shell.execute_reply": "2022-08-12T05:39:11.638233Z"
    }
   },
   "outputs": [
    {
     "data": {
      "image/png": "[encoded data removed]",
      "text/plain": [
       "<Figure size 432x288 with 1 Axes>"
      ]
     },
     "metadata": {},
     "output_type": "display_data"
    }
   ],
   "source": [
    "fig, ax = plt.subplots()\n",
    "ax.scatter(pop_mon.t / ms, pop_mon.i, marker='|', s=200); \n",
    "ax.set(title='population spiking', ylabel='neuron index', xlabel='time (ms)');"
   ]
  },
  {
   "cell_type": "markdown",
   "metadata": {},
   "source": [
    "## Constructing a closed-loop simulation\n",
    "\n",
    "We will use the popular model-free PI control to control a single neuron's firing rate. PI stands for proportional-integral, referring to a feedback gain *proportional* to the instantaneous error as well as the *integrated* error over time.\n",
    "\n",
    "First we construct a `CLSimulator` from the network:"
   ]
  },
  {
   "cell_type": "code",
   "execution_count": 5,
   "metadata": {
    "execution": {
     "iopub.execute_input": "2022-08-12T05:39:11.641108Z",
     "iopub.status.busy": "2022-08-12T05:39:11.640895Z",
     "iopub.status.idle": "2022-08-12T05:39:11.644173Z",
     "shell.execute_reply": "2022-08-12T05:39:11.643656Z"
    }
   },
   "outputs": [],
   "source": [
    "from cleosim import CLSimulator\n",
    "sim = CLSimulator(net)"
   ]
  },
  {
   "cell_type": "markdown",
   "metadata": {},
   "source": [
    "Then, to control neuron $i$, we need to:\n",
    "1. capture spiking using a `GroundTruthSpikeRecorder`"
   ]
  },
  {
   "cell_type": "code",
   "execution_count": 6,
   "metadata": {
    "execution": {
     "iopub.execute_input": "2022-08-12T05:39:11.646213Z",
     "iopub.status.busy": "2022-08-12T05:39:11.646009Z",
     "iopub.status.idle": "2022-08-12T05:39:11.655573Z",
     "shell.execute_reply": "2022-08-12T05:39:11.654774Z"
    }
   },
   "outputs": [],
   "source": [
    "from cleosim.recorders import GroundTruthSpikeRecorder\n",
    "i = 0  # neuron to control\n",
    "rec = GroundTruthSpikeRecorder('spike_rec')\n",
    "sim.inject_recorder(rec, population[i])"
   ]
  },
  {
   "cell_type": "markdown",
   "metadata": {},
   "source": [
    "2. define the firing rate trajectory we want our target neuron to follow"
   ]
  },
  {
   "cell_type": "code",
   "execution_count": 7,
   "metadata": {
    "execution": {
     "iopub.execute_input": "2022-08-12T05:39:11.657798Z",
     "iopub.status.busy": "2022-08-12T05:39:11.657617Z",
     "iopub.status.idle": "2022-08-12T05:39:11.661165Z",
     "shell.execute_reply": "2022-08-12T05:39:11.660645Z"
    }
   },
   "outputs": [],
   "source": [
    "# the target firing rate trajectory, as a function of time\n",
    "def target_Hz(t_ms):\n",
    "    if t_ms < 250:  # constant target at first\n",
    "        return 400\n",
    "    else:  # sinusoidal afterwards\n",
    "        a = 200\n",
    "        t_s = t_ms / 1000\n",
    "        return a + a * np.sin(2 * np.pi * 20 * t_s)"
   ]
  },
  {
   "cell_type": "markdown",
   "metadata": {},
   "source": [
    "2. estimating its firing rate from incoming spikes using a `FiringRateEstimator`\n",
    "3. compute the stimulus intensity with a `PIController`\n",
    "4. output that value for a `StateVariableSetter` stimulator to use\n",
    "\n",
    "Here we initialize blocks when the `IOProcessor` is created and define how to process network output and set the control signal in the `process` function."
   ]
  },
  {
   "cell_type": "code",
   "execution_count": 8,
   "metadata": {
    "execution": {
     "iopub.execute_input": "2022-08-12T05:39:11.662958Z",
     "iopub.status.busy": "2022-08-12T05:39:11.662789Z",
     "iopub.status.idle": "2022-08-12T05:39:11.670864Z",
     "shell.execute_reply": "2022-08-12T05:39:11.669801Z"
    }
   },
   "outputs": [],
   "source": [
    "from cleosim.processing import (\n",
    "    LatencyIOProcessor,\n",
    "    FiringRateEstimator,\n",
    "    ConstantDelay,\n",
    "    PIController,\n",
    ")\n",
    "\n",
    "class PIRateIOProcessor(LatencyIOProcessor):\n",
    "    delta = 1  # ms\n",
    "\n",
    "    def __init__(self):\n",
    "        super().__init__(sample_period_ms=self.delta, processing=\"parallel\")\n",
    "        self.rate_estimator = FiringRateEstimator(\n",
    "            tau_ms=15,\n",
    "            sample_period_ms=self.delta,\n",
    "            delay=ConstantDelay(4.1),  # latency in ms\n",
    "            save_history=True,  # lets us plot later\n",
    "        )\n",
    "\n",
    "        # using hand-tuned gains that seem reasonable\n",
    "        self.pi_controller = PIController(\n",
    "            target_Hz,\n",
    "            Kp=0.005,\n",
    "            Ki=0.04,\n",
    "            sample_period_ms=self.delta,\n",
    "            delay=ConstantDelay(2.87),  # latency in ms\n",
    "            save_history=True,  # lets us plot later\n",
    "        )\n",
    "\n",
    "    def process(self, state_dict, sample_time_ms):\n",
    "        spikes = state_dict[\"spike_rec\"]\n",
    "        # feed output and out_time through each block\n",
    "        out, time_ms = self.rate_estimator.process(\n",
    "            spikes, sample_time_ms, sample_time_ms=sample_time_ms\n",
    "        )\n",
    "        out, time_ms = self.pi_controller.process(\n",
    "            out, time_ms, sample_time_ms=sample_time_ms\n",
    "        )\n",
    "        # this dictionary output format allows for the flexibility\n",
    "        # of controlling multiple stimulators\n",
    "        if out < 0:  # limit to positive current\n",
    "            out = 0\n",
    "        out_dict = {\"I_stim\": out}\n",
    "        # time_ms at the end reflects the delays added by each block\n",
    "        return out_dict, time_ms\n",
    "\n",
    "io_processor = PIRateIOProcessor()\n",
    "sim.set_io_processor(io_processor)"
   ]
  },
  {
   "cell_type": "markdown",
   "metadata": {},
   "source": [
    "Note that we can set delays for individual `ProcessingBlock`s in the IO processor to better\n",
    "approximate the experiment. We use simple constant delays here, but a `GaussianDelay` class\n",
    "is also available and others could be easily implemented.\n",
    "\n",
    "Now we inject the stimulator:"
   ]
  },
  {
   "cell_type": "code",
   "execution_count": 9,
   "metadata": {
    "execution": {
     "iopub.execute_input": "2022-08-12T05:39:11.673117Z",
     "iopub.status.busy": "2022-08-12T05:39:11.672912Z",
     "iopub.status.idle": "2022-08-12T05:39:11.679558Z",
     "shell.execute_reply": "2022-08-12T05:39:11.679068Z"
    }
   },
   "outputs": [],
   "source": [
    "from cleosim.stimulators import StateVariableSetter\n",
    "sim.inject_stimulator(\n",
    "        StateVariableSetter(\n",
    "            'I_stim', variable_to_ctrl='I', unit=nA),\n",
    "        population[i]\n",
    ")"
   ]
  },
  {
   "cell_type": "markdown",
   "metadata": {},
   "source": [
    "## Run the simulation"
   ]
  },
  {
   "cell_type": "code",
   "execution_count": 10,
   "metadata": {
    "execution": {
     "iopub.execute_input": "2022-08-12T05:39:11.681298Z",
     "iopub.status.busy": "2022-08-12T05:39:11.681130Z",
     "iopub.status.idle": "2022-08-12T05:39:12.258439Z",
     "shell.execute_reply": "2022-08-12T05:39:12.257698Z"
    },
    "tags": []
   },
   "outputs": [],
   "source": [
    "sim.run(300*ms)"
   ]
  },
  {
   "cell_type": "code",
   "execution_count": 11,
   "metadata": {
    "execution": {
     "iopub.execute_input": "2022-08-12T05:39:12.261028Z",
     "iopub.status.busy": "2022-08-12T05:39:12.260784Z",
     "iopub.status.idle": "2022-08-12T05:39:13.074744Z",
     "shell.execute_reply": "2022-08-12T05:39:13.074190Z"
    }
   },
   "outputs": [
    {
     "data": {
      "image/png": "[encoded data removed]",
      "text/plain": [
       "<Figure size 432x288 with 3 Axes>"
      ]
     },
     "metadata": {},
     "output_type": "display_data"
    }
   ],
   "source": [
    "fig, (ax1, ax2, ax3) = plt.subplots(3, 1, sharex=True);\n",
    "ax1.plot(pop_mon.t / ms, pop_mon.i[:], '|');\n",
    "ax1.plot(pop_mon.t[pop_mon.i == i]/ms, pop_mon.i[pop_mon.i==i], '|', c='xkcd:hot pink') \n",
    "ax1.set(title='population spiking', ylabel='neuron index')\n",
    "\n",
    "ax2.plot(io_processor.rate_estimator.t_in_ms, io_processor.rate_estimator.values, c='xkcd:hot pink');\n",
    "ax2.plot(io_processor.rate_estimator.t_in_ms, [target_Hz(t) for t in io_processor.rate_estimator.t_in_ms],\\\n",
    "         c='xkcd:green');\n",
    "ax2.set(ylabel='firing rate (Hz)', title=f'neuron {i} activity');\n",
    "ax2.legend(['estimated firing rate', 'target firing rate']);\n",
    "\n",
    "ax3.plot(io_processor.pi_controller.t_out_ms, io_processor.pi_controller.values, c='xkcd:cerulean')\n",
    "ax3.set(title='control input', ylabel='$I_{stim}$ (nA)', xlabel='time (ms)')\n",
    "\n",
    "fig.tight_layout()\n",
    "fig.show()"
   ]
  },
  {
   "cell_type": "markdown",
   "metadata": {},
   "source": [
    "_Note the lag in keeping up with the target firing rate, which can\n",
    "be directly attributed to the ~7 ms delay we coded in to the IO processor._\n",
    "\n",
    "## Conclusion\n",
    "In this tutorial, we've learned how to\n",
    "* use PI control to interact with a Brian simulation,\n",
    "* decompose processing steps into blocks, and\n",
    "* assign delays to processing blocks to model real-life latency. "
   ]
  }
 ],
 "metadata": {
  "kernelspec": {
   "display_name": "Python 3.9.7",
   "language": "python",
   "name": "python3"
  },
  "language_info": {
   "codemirror_mode": {
    "name": "ipython",
    "version": 3
   },
   "file_extension": ".py",
   "mimetype": "text/x-python",
   "name": "python",
   "nbconvert_exporter": "python",
   "pygments_lexer": "ipython3",
   "version": "3.8.12"
  },
  "metadata": {
   "interpreter": {
    "hash": "9759b380a3806d751a7bc0e9dd82ec00692d794861a15fb59a5817705f6f8880"
   }
  },
  "vscode": {
   "interpreter": {
    "hash": "3333640a83a0f2550370fea1cb07283017eb8f527fd705d55c68225b7ded1a1f"
   }
  }
 },
 "nbformat": 4,
 "nbformat_minor": 2
}
