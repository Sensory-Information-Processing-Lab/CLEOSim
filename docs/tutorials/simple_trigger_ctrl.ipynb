{
 "cells": [
  {
   "cell_type": "markdown",
   "metadata": {},
   "source": [
    "# Example CLOC Simulation\n",
    "The point here is to show how to set up a minimum, working closed loop, with a very simple threshold-triggered control scheme."
   ]
  },
  {
   "cell_type": "code",
   "execution_count": 1,
   "metadata": {
    "execution": {
     "iopub.execute_input": "2022-01-31T19:39:38.352787Z",
     "iopub.status.busy": "2022-01-31T19:39:38.352164Z",
     "iopub.status.idle": "2022-01-31T19:39:40.506680Z",
     "shell.execute_reply": "2022-01-31T19:39:40.507865Z"
    }
   },
   "outputs": [],
   "source": [
    "%load_ext autoreload\n",
    "%autoreload 2\n",
    "\n",
    "from brian2 import *\n",
    "from cleosim import *\n",
    "\n",
    "import matplotlib.pyplot as plt\n",
    "\n",
    "# the default cython compilation target isn't worth it for \n",
    "# this trivial example\n",
    "prefs.codegen.target = \"numpy\""
   ]
  },
  {
   "cell_type": "markdown",
   "metadata": {},
   "source": [
    "## Set up network"
   ]
  },
  {
   "cell_type": "code",
   "execution_count": 2,
   "metadata": {
    "execution": {
     "iopub.execute_input": "2022-01-31T19:39:40.515352Z",
     "iopub.status.busy": "2022-01-31T19:39:40.514730Z",
     "iopub.status.idle": "2022-01-31T19:39:40.857547Z",
     "shell.execute_reply": "2022-01-31T19:39:40.857181Z"
    },
    "tags": []
   },
   "outputs": [
    {
     "name": "stdout",
     "output_type": "stream",
     "text": [
      "Recorded population's equations:\n"
     ]
    },
    {
     "data": {
      "text/latex": [
       "\\begin{align*}\\frac{\\mathrm{d}v}{\\mathrm{d}t} &= \\frac{I Rm - 70 mV - v}{\\tau} && \\text{(unit of $v$: $\\mathrm{V}$)}\\\\\n",
       "\\tau &&& \\text{(unit: $\\mathrm{s}$)}\\\\\n",
       "Rm &&& \\text{(unit: $\\mathrm{ohm}$)}\\\\\n",
       "I &&& \\text{(unit: $\\mathrm{A}$)}\\end{align*}"
      ],
      "text/plain": [
       "dv/dt = (I*Rm - 70*mV - v)/tau : volt\n",
       "tau : second\n",
       "Rm : ohm\n",
       "I : amp\n"
      ]
     },
     "execution_count": 2,
     "metadata": {},
     "output_type": "execute_result"
    }
   ],
   "source": [
    "n = 10\n",
    "population = NeuronGroup(n, '''\n",
    "            dv/dt = (-v - 70*mV + Rm*I) / tau : volt\n",
    "            tau: second\n",
    "            Rm: ohm\n",
    "            I: amp''',\n",
    "        threshold='v>-50*mV',\n",
    "        reset='v=-70*mV'\n",
    ")\n",
    "population.tau = 10*ms\n",
    "population.Rm = 100*Mohm\n",
    "population.I = 0*mA\n",
    "population.v = -70*mV\n",
    "\n",
    "input_group = PoissonGroup(n, np.linspace(0, 100, n)*Hz + 10*Hz)\n",
    "\n",
    "S = Synapses(input_group, population, on_pre='v+=5*mV')\n",
    "S.connect(condition='abs(i-j)<=3')\n",
    "\n",
    "pop_mon = SpikeMonitor(population)\n",
    "state_mon = StateMonitor(population, 'v', range(n))\n",
    "\n",
    "net = Network([population, input_group,S, pop_mon, state_mon])\n",
    "\n",
    "print(\"Recorded population's equations:\")\n",
    "population.user_equations"
   ]
  },
  {
   "cell_type": "markdown",
   "metadata": {},
   "source": [
    "## Run simulation"
   ]
  },
  {
   "cell_type": "code",
   "execution_count": 3,
   "metadata": {
    "execution": {
     "iopub.execute_input": "2022-01-31T19:39:40.861043Z",
     "iopub.status.busy": "2022-01-31T19:39:40.860696Z",
     "iopub.status.idle": "2022-01-31T19:39:41.194429Z",
     "shell.execute_reply": "2022-01-31T19:39:41.194718Z"
    },
    "tags": []
   },
   "outputs": [
    {
     "name": "stderr",
     "output_type": "stream",
     "text": [
      "INFO       No numerical integration method specified for group 'neurongroup', using method 'exact' (took 0.05s). [brian2.stateupdaters.base.method_choice]\n"
     ]
    }
   ],
   "source": [
    "net.run(200*ms)"
   ]
  },
  {
   "cell_type": "markdown",
   "metadata": {},
   "source": [
    "We shouldn't see the activity in the recorded group affect the controlled group, since\n",
    "the IO processor isn't set up yet. "
   ]
  },
  {
   "cell_type": "code",
   "execution_count": 4,
   "metadata": {
    "execution": {
     "iopub.execute_input": "2022-01-31T19:39:41.197884Z",
     "iopub.status.busy": "2022-01-31T19:39:41.196360Z",
     "iopub.status.idle": "2022-01-31T19:39:41.470196Z",
     "shell.execute_reply": "2022-01-31T19:39:41.469543Z"
    }
   },
   "outputs": [
    {
     "data": {
      "image/png": "[encoded data removed]",
      "text/plain": [
       "<Figure size 504x216 with 1 Axes>"
      ]
     },
     "metadata": {
      "needs_background": "light"
     },
     "output_type": "display_data"
    }
   ],
   "source": [
    "fig_size=(7, 3)\n",
    "plt.figure(figsize=fig_size);\n",
    "plt.plot(pop_mon.t / ms, pop_mon.i, '|'); \n",
    "plt.title('Population Spiking'); plt.ylabel('neuron index'); plt.xlabel('time (ms)');\n",
    "plt.show();"
   ]
  },
  {
   "cell_type": "markdown",
   "metadata": {},
   "source": [
    "## IO processor setup\n",
    "Now we'll set up the IO processor and should see activity in the controlled neuron (index 0).\n",
    "We'll use a simplistic setup where the recorder simply reports the voltage of a given neuron (of index 5 in our case), the controller outputs a pulse whenever\n",
    "that voltage is below a certain threshold,\n",
    "and the stimulator applies that pulse to the specified neurons. So if everything is\n",
    "wired correctly, we'll see bursts of activity in the first 10 neurons."
   ]
  },
  {
   "cell_type": "code",
   "execution_count": 5,
   "metadata": {
    "execution": {
     "iopub.execute_input": "2022-01-31T19:39:41.475148Z",
     "iopub.status.busy": "2022-01-31T19:39:41.474797Z",
     "iopub.status.idle": "2022-01-31T19:39:41.492715Z",
     "shell.execute_reply": "2022-01-31T19:39:41.492424Z"
    }
   },
   "outputs": [],
   "source": [
    "from cleosim.recorders import RateRecorder, VoltageRecorder\n",
    "from cleosim.stimulators import StateVariableSetter\n",
    "from cleosim import *  # for reloading\n",
    "\n",
    "i_rec = int(n/2)\n",
    "i_ctrl = 0\n",
    "sim = CLSimulator(net)\n",
    "v_rec = VoltageRecorder('rec')\n",
    "sim.inject_recorder(v_rec, population[i_rec])\n",
    "sim.inject_stimulator(\n",
    "        StateVariableSetter(\n",
    "            'stim', variable_to_ctrl='I', unit=nA),\n",
    "        population[i_ctrl]\n",
    ")"
   ]
  },
  {
   "cell_type": "markdown",
   "metadata": {},
   "source": [
    "We need to implement the `LatencyIOProcessor` object. For a more sophisticated case we'd use `ProcessingBlock` objects to decompose \n",
    "the computation in the `compute_ctrl_signal` function."
   ]
  },
  {
   "cell_type": "code",
   "execution_count": 6,
   "metadata": {
    "execution": {
     "iopub.execute_input": "2022-01-31T19:39:41.498079Z",
     "iopub.status.busy": "2022-01-31T19:39:41.497609Z",
     "iopub.status.idle": "2022-01-31T19:39:41.513926Z",
     "shell.execute_reply": "2022-01-31T19:39:41.513554Z"
    }
   },
   "outputs": [],
   "source": [
    "from cleosim.processing import LatencyIOProcessor\n",
    "trigger_threshold = -60*mV\n",
    "\n",
    "class ReactivePulseIOProcessor(LatencyIOProcessor):\n",
    "    def __init__(self, pulse_current=1):\n",
    "        super().__init__(sampling_period_ms=1)\n",
    "        self.pulse_current = pulse_current\n",
    "        self.out = {}\n",
    "\n",
    "    def compute_ctrl_signal(self, state_dict, time_ms):\n",
    "        v = state_dict['rec']\n",
    "        if v is not None and v < trigger_threshold:\n",
    "            self.out['stim'] = self.pulse_current\n",
    "        else:\n",
    "            self.out['stim'] = 0\n",
    "\n",
    "        return (self.out, time_ms)\n",
    "\n",
    "sim.set_io_processor(ReactivePulseIOProcessor(1))"
   ]
  },
  {
   "cell_type": "markdown",
   "metadata": {},
   "source": [
    "And run the simulation:"
   ]
  },
  {
   "cell_type": "code",
   "execution_count": 7,
   "metadata": {
    "execution": {
     "iopub.execute_input": "2022-01-31T19:39:41.517348Z",
     "iopub.status.busy": "2022-01-31T19:39:41.516929Z",
     "iopub.status.idle": "2022-01-31T19:39:42.034118Z",
     "shell.execute_reply": "2022-01-31T19:39:42.033827Z"
    }
   },
   "outputs": [],
   "source": [
    "sim.run(200*ms)"
   ]
  },
  {
   "cell_type": "code",
   "execution_count": 8,
   "metadata": {
    "execution": {
     "iopub.execute_input": "2022-01-31T19:39:42.039211Z",
     "iopub.status.busy": "2022-01-31T19:39:42.038877Z",
     "iopub.status.idle": "2022-01-31T19:39:42.402939Z",
     "shell.execute_reply": "2022-01-31T19:39:42.402510Z"
    }
   },
   "outputs": [
    {
     "data": {
      "image/png": "[encoded data removed]",
      "text/plain": [
       "<Figure size 504x432 with 2 Axes>"
      ]
     },
     "metadata": {
      "needs_background": "light"
     },
     "output_type": "display_data"
    }
   ],
   "source": [
    "fig, (ax1, ax2) = plt.subplots(2, 1, sharex=True, figsize=(7, 6));\n",
    "ax1.plot(pop_mon.t / ms, pop_mon.i, '|'); \n",
    "ax1.plot(pop_mon.t[pop_mon.i == i_ctrl] / ms, pop_mon.i[pop_mon.i == i_ctrl], '|', c='xkcd:hot pink'); \n",
    "ax1.set_title('Population Spiking'); ax1.set_ylabel('neuron index'); plt.xlabel('time (ms)');\n",
    "ax2.fill_between(v_rec.mon.t / ms, (v_rec.mon.v.T < trigger_threshold)[:, 0], color='xkcd:hot pink');\n",
    "plt.title('Expected pulses'); plt.xlabel('time (ms)'); plt.ylabel('pulse on/off (1/0)');\n"
   ]
  },
  {
   "cell_type": "markdown",
   "metadata": {},
   "source": [
    "Yes, we see the IO processor triggering pulses as expected.\n",
    "And here's a plot of neuron 50's voltage to confirm that those pulses\n",
    "are indeed where we expect them to be, whenever the voltage is\n",
    "below -60 mV."
   ]
  },
  {
   "cell_type": "code",
   "execution_count": 9,
   "metadata": {
    "execution": {
     "iopub.execute_input": "2022-01-31T19:39:42.407827Z",
     "iopub.status.busy": "2022-01-31T19:39:42.407434Z",
     "iopub.status.idle": "2022-01-31T19:39:42.724432Z",
     "shell.execute_reply": "2022-01-31T19:39:42.723907Z"
    }
   },
   "outputs": [
    {
     "data": {
      "image/png": "[encoded data removed]",
      "text/plain": [
       "<Figure size 504x216 with 1 Axes>"
      ]
     },
     "metadata": {
      "needs_background": "light"
     },
     "output_type": "display_data"
    }
   ],
   "source": [
    "fig, ax = plt.subplots(figsize=fig_size);\n",
    "ax.set(title=f\"Voltage for neuron {i_rec}\", ylabel=\"v (mV)\", xlabel='time (ms)')\n",
    "ax.plot(v_rec.mon.t/ms, v_rec.mon.v.T / mV);\n",
    "ax.hlines(-60, 0, 400, color='xkcd:hot pink');\n",
    "ax.legend(['v', 'threshold'], loc='upper right');"
   ]
  }
 ],
 "metadata": {
  "interpreter": {
   "hash": "70f31c3bad76fc31f3f25df3cd9648492bf05854bb5705fb278e1ec2dbb567d4"
  },
  "kernelspec": {
   "display_name": "Python 3.7.10 64-bit ('brian2_py37': conda)",
   "name": "python3"
  },
  "language_info": {
   "codemirror_mode": {
    "name": "ipython",
    "version": 3
   },
   "file_extension": ".py",
   "mimetype": "text/x-python",
   "name": "python",
   "nbconvert_exporter": "python",
   "pygments_lexer": "ipython3",
   "version": "3.8.12"
  },
  "metadata": {
   "interpreter": {
    "hash": "9759b380a3806d751a7bc0e9dd82ec00692d794861a15fb59a5817705f6f8880"
   }
  }
 },
 "nbformat": 4,
 "nbformat_minor": 2
}
