{
 "cells": [
  {
   "cell_type": "markdown",
   "metadata": {},
   "source": [
    "# PI Control Example\n",
    "also featuring computation delays and firing rate estimates"
   ]
  },
  {
   "cell_type": "code",
   "execution_count": 1,
   "metadata": {},
   "outputs": [],
   "source": [
    "%load_ext autoreload\n",
    "%autoreload 2\n",
    "\n",
    "from brian2 import *\n",
    "import matplotlib.pyplot as plt\n",
    "from cleosim import *\n",
    "\n",
    "np.random.seed(7000)\n",
    "\n",
    "# the default cython compilation target isn't worth it for \n",
    "# this trivial example\n",
    "prefs.codegen.target = \"numpy\""
   ]
  },
  {
   "cell_type": "markdown",
   "metadata": {},
   "source": [
    "## Create the Brian network\n",
    "We'll create a population of 10 neurons mainly driven by feedforward input but with some recurrent connections as well."
   ]
  },
  {
   "cell_type": "code",
   "execution_count": 2,
   "metadata": {},
   "outputs": [],
   "source": [
    "n = 10\n",
    "population = NeuronGroup(n, '''\n",
    "            dv/dt = (-v - 70*mV + Rm*I) / tau : volt\n",
    "            tau: second\n",
    "            Rm: ohm\n",
    "            I: amp''',\n",
    "        threshold='v>-50*mV',\n",
    "        reset='v=-70*mV'\n",
    ")\n",
    "population.tau = 10*ms\n",
    "population.Rm = 100*Mohm\n",
    "population.I = 0*mA\n",
    "population.v = -70*mV\n",
    "\n",
    "input_group = PoissonGroup(n, np.linspace(20, 200, n)*Hz)\n",
    "\n",
    "S = Synapses(input_group, population, on_pre='v+=5*mV')\n",
    "S.connect(condition=f'abs(i-j)<={3}')\n",
    "S2 = Synapses(population, population, on_pre='v+=2*mV')\n",
    "# S2.connect(condition=f'abs(i-j)<={1}')\n",
    "S2.connect(p=0.2)\n",
    "\n",
    "pop_mon = SpikeMonitor(population)\n",
    "\n",
    "net = Network(population, input_group, S, S2, pop_mon)"
   ]
  },
  {
   "cell_type": "markdown",
   "metadata": {},
   "source": [
    "### Run simulation without control:"
   ]
  },
  {
   "cell_type": "code",
   "execution_count": 3,
   "metadata": {
    "tags": []
   },
   "outputs": [
    {
     "name": "stderr",
     "output_type": "stream",
     "text": [
      "INFO       No numerical integration method specified for group 'neurongroup', using method 'exact' (took 0.16s). [brian2.stateupdaters.base.method_choice]\n"
     ]
    }
   ],
   "source": [
    "net.run(100*ms)"
   ]
  },
  {
   "cell_type": "code",
   "execution_count": 4,
   "metadata": {},
   "outputs": [
    {
     "data": {
      "image/png": "[encoded data removed]",
      "text/plain": [
       "<Figure size 432x288 with 1 Axes>"
      ]
     },
     "metadata": {
      "needs_background": "light"
     },
     "output_type": "display_data"
    }
   ],
   "source": [
    "plt.figure();\n",
    "plt.plot(pop_mon.t / ms, pop_mon.i, '|'); \n",
    "plt.title('Population Spiking'); plt.ylabel('neuron index'); plt.xlabel('time (ms)');"
   ]
  },
  {
   "cell_type": "markdown",
   "metadata": {},
   "source": [
    "## Control loop setup\n",
    "Now for the control loop--to control neuron $i$, we need to:\n",
    "- capture spiking using a `SpikeRecorder`\n",
    "- estimating its firing rate using a `FiringRateEstimator`\n",
    "- compute the stimulus intensity with a `PIController`\n",
    "- pass that to a `StateVariableSetter` stimulator manipulating input current"
   ]
  },
  {
   "cell_type": "code",
   "execution_count": 5,
   "metadata": {},
   "outputs": [],
   "source": [
    "from cleosim import *\n",
    "from cleosim.recorders import GroundTruthSpikeRecorder\n",
    "from cleosim.stimulators import StateVariableSetter\n",
    "\n",
    "i = 0  # neuron to control\n",
    "\n",
    "sim = CLSimulator(net)\n",
    "rec = GroundTruthSpikeRecorder('spike_rec')\n",
    "sim.inject_recorder(rec, population[i])"
   ]
  },
  {
   "cell_type": "markdown",
   "metadata": {},
   "source": [
    "Note that we can set delays for components in the control loop to better\n",
    "approximate the experiment:"
   ]
  },
  {
   "cell_type": "code",
   "execution_count": 6,
   "metadata": {},
   "outputs": [],
   "source": [
    "from cleosim.processing import (\n",
    "    LatencyProcessingLoop,\n",
    "    FiringRateEstimator,\n",
    "    ConstantDelay,\n",
    "    PIController,\n",
    ")\n",
    "\n",
    "# the target firing rate trajectory, as a function of time\n",
    "def target_Hz(t_ms):\n",
    "    if t_ms < 250:  # constant target at first\n",
    "        return 400\n",
    "    else:  # sinusoidal afterwards\n",
    "        a = 200\n",
    "        t_s = t_ms / 1000\n",
    "        return a + a * np.sin(2 * np.pi * 20 * t_s)\n",
    "\n",
    "\n",
    "class PIRateProcessingLoop(LatencyProcessingLoop):\n",
    "    delta = 1  # ms\n",
    "\n",
    "    def __init__(self):\n",
    "        super().__init__(self.delta, sampling=\"fixed\", processing=\"parallel\")\n",
    "        self.rate_estimator = FiringRateEstimator(\n",
    "            15, self.delta, delay=ConstantDelay(4.1), save_history=True\n",
    "        )\n",
    "\n",
    "        # using hand-tuned gains that seem reasonable\n",
    "        self.pi_controller = PIController(\n",
    "            target_Hz,\n",
    "            Kp=0.005,\n",
    "            Ki=0.04,\n",
    "            sample_period_ms=self.delta,\n",
    "            delay=ConstantDelay(2.87),  # 2.87 ms latency\n",
    "            save_history=False,\n",
    "        )\n",
    "\n",
    "    def compute_ctrl_signal(self, state_dict, sample_time_ms):\n",
    "        spikes = state_dict[\"spike_rec\"]\n",
    "        out, time_ms = self.rate_estimator.process(\n",
    "            spikes, sample_time_ms, sample_time_ms=sample_time_ms\n",
    "        )\n",
    "        out, time_ms = self.pi_controller.process(\n",
    "            out, time_ms, sample_time_ms=sample_time_ms\n",
    "        )\n",
    "        # this dictionary output format allows for the flexibility\n",
    "        # of controlling multiple stimulators\n",
    "        if out < 0:  # limit to positive current\n",
    "            out = 0\n",
    "        out_dict = {\"I_stim\": out}\n",
    "        return out_dict, time_ms\n",
    "\n",
    "\n",
    "proc_loop = PIRateProcessingLoop()\n",
    "sim.set_processing_loop(proc_loop)"
   ]
  },
  {
   "cell_type": "markdown",
   "metadata": {},
   "source": [
    "Now we inject the stimulator:"
   ]
  },
  {
   "cell_type": "code",
   "execution_count": 7,
   "metadata": {},
   "outputs": [],
   "source": [
    "sim.inject_stimulator(\n",
    "        StateVariableSetter(\n",
    "            'I_stim', variable_to_ctrl='I', unit=nA),\n",
    "        population[i]\n",
    ")"
   ]
  },
  {
   "cell_type": "markdown",
   "metadata": {},
   "source": [
    "## Run the simulation"
   ]
  },
  {
   "cell_type": "code",
   "execution_count": 8,
   "metadata": {
    "tags": []
   },
   "outputs": [],
   "source": [
    "sim.run(300*ms)"
   ]
  },
  {
   "cell_type": "code",
   "execution_count": 9,
   "metadata": {},
   "outputs": [
    {
     "data": {
      "image/png": "[encoded data removed]",
      "text/plain": [
       "<Figure size 432x288 with 2 Axes>"
      ]
     },
     "metadata": {
      "needs_background": "light"
     },
     "output_type": "display_data"
    }
   ],
   "source": [
    "fig, (ax1, ax2) = plt.subplots(2,1, sharex=True);\n",
    "ax1.plot(pop_mon.t / ms, pop_mon.i, '|');\n",
    "ax1.plot(pop_mon.t[pop_mon.i == i]/ms, pop_mon.i[pop_mon.i==i], '|', c='xkcd:hot pink') \n",
    "ax1.set(title='Population Spiking', ylabel='neuron index', xlabel='time (ms)')\n",
    "\n",
    "ax2.plot(proc_loop.rate_estimator.t, proc_loop.rate_estimator.values, c='xkcd:hot pink');\n",
    "ax2.plot(proc_loop.rate_estimator.t, [target_Hz(t) for t in proc_loop.rate_estimator.t],\\\n",
    "         c='xkcd:green');\n",
    "ax2.set(ylabel='firing rate (Hz)', xlabel='time (ms)', title=f'Neuron {i} activity');\n",
    "ax2.legend(['Estimated firing rate', 'Target firing rate']);\n",
    "\n",
    "fig.tight_layout()\n",
    "fig.show()"
   ]
  },
  {
   "cell_type": "markdown",
   "metadata": {},
   "source": [
    "_Note the lag in keeping up with the target firing rate, which can\n",
    "be directly attributed to the ~7 ms delay we coded in to the control loop._"
   ]
  }
 ],
 "metadata": {
  "interpreter": {
   "hash": "9759b380a3806d751a7bc0e9dd82ec00692d794861a15fb59a5817705f6f8880"
  },
  "kernelspec": {
   "display_name": "Python 3.8.5 64-bit ('brian2genn': conda)",
   "name": "python3"
  },
  "language_info": {
   "codemirror_mode": {
    "name": "ipython",
    "version": 3
   },
   "file_extension": ".py",
   "mimetype": "text/x-python",
   "name": "python",
   "nbconvert_exporter": "python",
   "pygments_lexer": "ipython3",
   "version": "3.8.12"
  },
  "metadata": {
   "interpreter": {
    "hash": "9759b380a3806d751a7bc0e9dd82ec00692d794861a15fb59a5817705f6f8880"
   }
  },
  "orig_nbformat": 2
 },
 "nbformat": 4,
 "nbformat_minor": 2
}
