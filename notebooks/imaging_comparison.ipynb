{
 "cells": [
  {
   "cell_type": "code",
   "execution_count": null,
   "id": "cc00eb31-0296-4f0c-8975-3bf879964c9b",
   "metadata": {},
   "outputs": [],
   "source": [
    "import brian2 as b2\n",
    "from brian2 import np\n",
    "import cleo\n",
    "from cleo import opto, imaging, light\n",
    "import matplotlib.pyplot as plt\n",
    "\n",
    "# for reproducibility\n",
    "rng = np.random.default_rng(92)\n",
    "np.random.seed(92)\n",
    "\n",
    "cleo.utilities.style_plots_for_docs()"
   ]
  },
  {
   "cell_type": "code",
   "execution_count": null,
   "id": "5beac0d2-26a3-458e-9bc1-7fa4a4c5e0dc",
   "metadata": {},
   "outputs": [],
   "source": [
    "ng = b2.NeuronGroup(\n",
    "    100,\n",
    "    \"\"\"dv/dt = (-(v - E_L) + Rm*Iopto) / tau_m : volt\n",
    "    Iopto : amp\"\"\",\n",
    "    threshold=\"v > -50*mV\",\n",
    "    reset=\"v=E_L\",\n",
    "    namespace={\n",
    "        \"tau_m\": 20 * b2.ms,\n",
    "        \"Rm\": 500 * b2.Mohm,\n",
    "        \"E_L\": -70 * b2.mV,\n",
    "    },\n",
    ")\n",
    "ng.v = -70 * b2.mV\n",
    "cleo.coords.assign_coords_rand_rect_prism(\n",
    "    ng, [-75, 75], [-75, 75], [50, 150], unit=b2.um\n",
    ")\n",
    "sim = cleo.CLSimulator(b2.Network(ng))"
   ]
  },
  {
   "cell_type": "code",
   "execution_count": 9,
   "id": "ce1d35f1-c5e5-4314-8b8f-bf0f17d7eefd",
   "metadata": {},
   "outputs": [
    {
     "ename": "TypeError",
     "evalue": "_create_s2f_geci_fn.<locals>.s2f_geci_fn() got an unexpected keyword argument 'doub_exp_conv'",
     "output_type": "error",
     "traceback": [
      "\u001b[0;31m---------------------------------------------------------------------------\u001b[0m",
      "\u001b[0;31mTypeError\u001b[0m                                 Traceback (most recent call last)",
      "Cell \u001b[0;32mIn[9], line 11\u001b[0m\n\u001b[1;32m      5\u001b[0m rho_rel_gen \u001b[38;5;241m=\u001b[39m \u001b[38;5;28;01mlambda\u001b[39;00m n: rho_rel[:n]\n\u001b[1;32m      7\u001b[0m scopes \u001b[38;5;241m=\u001b[39m []\n\u001b[1;32m      9\u001b[0m \u001b[38;5;28;01mfor\u001b[39;00m i, geci \u001b[38;5;129;01min\u001b[39;00m \u001b[38;5;28menumerate\u001b[39m(\n\u001b[1;32m     10\u001b[0m     [\n\u001b[0;32m---> 11\u001b[0m         \u001b[43mimaging\u001b[49m\u001b[38;5;241;43m.\u001b[39;49m\u001b[43mgcamp6f\u001b[49m\u001b[43m(\u001b[49m\u001b[43mdoub_exp_conv\u001b[49m\u001b[38;5;241;43m=\u001b[39;49m\u001b[38;5;28;43;01mFalse\u001b[39;49;00m\u001b[43m)\u001b[49m,\n\u001b[1;32m     12\u001b[0m         imaging\u001b[38;5;241m.\u001b[39mjgcamp7f(doub_exp_conv\u001b[38;5;241m=\u001b[39m\u001b[38;5;28;01mFalse\u001b[39;00m),\n\u001b[1;32m     13\u001b[0m         imaging\u001b[38;5;241m.\u001b[39mogb_1(doub_exp_conv\u001b[38;5;241m=\u001b[39m\u001b[38;5;28;01mFalse\u001b[39;00m),\n\u001b[1;32m     14\u001b[0m     ]\n\u001b[1;32m     15\u001b[0m ):\n\u001b[1;32m     16\u001b[0m     scope \u001b[38;5;241m=\u001b[39m imaging\u001b[38;5;241m.\u001b[39mScope(\n\u001b[1;32m     17\u001b[0m         focus_depth\u001b[38;5;241m=\u001b[39m\u001b[38;5;241m100\u001b[39m \u001b[38;5;241m*\u001b[39m b2\u001b[38;5;241m.\u001b[39mum,\n\u001b[1;32m     18\u001b[0m         img_width\u001b[38;5;241m=\u001b[39m\u001b[38;5;241m150\u001b[39m \u001b[38;5;241m*\u001b[39m b2\u001b[38;5;241m.\u001b[39mum,\n\u001b[1;32m     19\u001b[0m         sensor\u001b[38;5;241m=\u001b[39mgeci,\n\u001b[1;32m     20\u001b[0m         name\u001b[38;5;241m=\u001b[39m\u001b[38;5;124mf\u001b[39m\u001b[38;5;124m\"\u001b[39m\u001b[38;5;132;01m{\u001b[39;00mgeci\u001b[38;5;132;01m}\u001b[39;00m\u001b[38;5;124m Scope\u001b[39m\u001b[38;5;124m\"\u001b[39m,\n\u001b[1;32m     21\u001b[0m     )\n\u001b[1;32m     22\u001b[0m     sim\u001b[38;5;241m.\u001b[39minject(scope, ng, rho_rel_generator\u001b[38;5;241m=\u001b[39mrho_rel_gen)\n",
      "\u001b[0;31mTypeError\u001b[0m: _create_s2f_geci_fn.<locals>.s2f_geci_fn() got an unexpected keyword argument 'doub_exp_conv'"
     ]
    }
   ],
   "source": [
    "# variable expression\n",
    "# rho_rel_gen = lambda n: rng.lognormal(0, 0.2, size=n)\n",
    "# reuse same sample to have same expression for both GECIs\n",
    "rho_rel = rng.lognormal(0, 0.2, size=100)\n",
    "rho_rel_gen = lambda n: rho_rel[:n]\n",
    "\n",
    "scopes = []\n",
    "\n",
    "for i, geci in enumerate(\n",
    "    [\n",
    "        imaging.gcamp6f(doub_exp_conv=False),\n",
    "        imaging.jgcamp7f(doub_exp_conv=False),\n",
    "        imaging.ogb_1(doub_exp_conv=False),\n",
    "    ]\n",
    "):\n",
    "    scope = imaging.Scope(\n",
    "        focus_depth=100 * b2.um,\n",
    "        img_width=150 * b2.um,\n",
    "        sensor=geci,\n",
    "        name=f\"{geci} Scope\",\n",
    "    )\n",
    "    sim.inject(scope, ng, rho_rel_generator=rho_rel_gen)\n",
    "    scope.inject_sensor_for_targets()\n",
    "    scopes.append(scope)\n",
    "    i_targets = scope.i_targets_for_neuron_group(ng)\n",
    "    print(scope.n)"
   ]
  },
  {
   "cell_type": "code",
   "execution_count": 8,
   "id": "9cbfd7af-d2e1-41d2-853d-9456cb41046e",
   "metadata": {},
   "outputs": [
    {
     "ename": "NameError",
     "evalue": "name 'scope' is not defined",
     "output_type": "error",
     "traceback": [
      "\u001b[0;31m---------------------------------------------------------------------------\u001b[0m",
      "\u001b[0;31mNameError\u001b[0m                                 Traceback (most recent call last)",
      "Cell \u001b[0;32mIn[8], line 1\u001b[0m\n\u001b[0;32m----> 1\u001b[0m cleo\u001b[38;5;241m.\u001b[39mviz\u001b[38;5;241m.\u001b[39mplot(ng, colors\u001b[38;5;241m=\u001b[39m[\u001b[38;5;124m\"\u001b[39m\u001b[38;5;124m#c500cc\u001b[39m\u001b[38;5;124m\"\u001b[39m], devices\u001b[38;5;241m=\u001b[39m[\u001b[43mscope\u001b[49m])\n",
      "\u001b[0;31mNameError\u001b[0m: name 'scope' is not defined"
     ]
    }
   ],
   "source": [
    "cleo.viz.plot(ng, colors=[\"#c500cc\"], devices=[scope])"
   ]
  },
  {
   "cell_type": "code",
   "execution_count": 5,
   "id": "a8cf3763-cbb9-4403-8c18-d27b633800d4",
   "metadata": {},
   "outputs": [
    {
     "data": {
      "image/png": "[encoded data removed]",
      "text/plain": [
       "<Figure size 250x150 with 2 Axes>"
      ]
     },
     "metadata": {},
     "output_type": "display_data"
    }
   ],
   "source": [
    "import seaborn as sns\n",
    "from mpl_toolkits.axes_grid1.anchored_artists import AnchoredSizeBar\n",
    "from matplotlib.collections import EllipseCollection\n",
    "\n",
    "with plt.style.context(\"dark_background\"):\n",
    "    fig, ax = plt.subplots(figsize=(2.5, 1.5))\n",
    "    x, y = ng.x[i_targets] / b2.um, ng.y[i_targets] / b2.um\n",
    "    lim = scope.img_width * 1.2 / b2.um / 2\n",
    "    ax.set(xlim=(-lim, lim), ylim=(-lim, lim), aspect=\"equal\")\n",
    "\n",
    "    perp_dist = np.abs(ng.z[i_targets] - scope.focus_depth)\n",
    "    r_visible = np.sqrt(scope.soma_radius**2 - perp_dist**2)\n",
    "    r_visible_um = r_visible / b2.um\n",
    "    cmap = sns.dark_palette(\"xkcd:fluorescent green\", as_cmap=True)\n",
    "    rois = EllipseCollection(\n",
    "        r_visible_um * 2,\n",
    "        r_visible_um * 2,\n",
    "        0,\n",
    "        units=\"xy\",\n",
    "        offsets=np.c_[x, y],\n",
    "        offset_transform=ax.transData,\n",
    "        cmap=cmap,\n",
    "    )\n",
    "    rois.set_array(100 * scopes[0].dFF_1AP)\n",
    "    ax.add_collection(rois)\n",
    "    # easier, more accurate with EllipseCollection\n",
    "    # r_visible_pt = r_visible / scope.img_width * ax.bbox.width\n",
    "    # markerarea = np.pi * r_visible_pt**2\n",
    "    # rois = ax.scatter(x, y, s=markerarea, c=scope.dFF_1AP, cmap=cmap)\n",
    "\n",
    "    scale_um = 50\n",
    "    ax.add_artist(\n",
    "        AnchoredSizeBar(\n",
    "            ax.transData,\n",
    "            scale_um,\n",
    "            f\"{scale_um} µm\",\n",
    "            \"lower right\",\n",
    "            frameon=False,\n",
    "            color=\"w\",\n",
    "            label_top=True,\n",
    "            size_vertical=scale_um / 10,\n",
    "        )\n",
    "    )\n",
    "    ax.set_axis_off()\n",
    "    # annotate each neuron with its index\n",
    "    for i_img, (x_, y_) in enumerate(zip(x, y)):\n",
    "        ax.annotate(\n",
    "            i_img + 1,\n",
    "            (x_, y_),\n",
    "            # (x_ + 15, y_),\n",
    "            color=\"w\",\n",
    "            ha=\"center\",\n",
    "            va=\"center\",\n",
    "            annotation_clip=False,\n",
    "            fontsize=8,\n",
    "        )\n",
    "\n",
    "    cbar = fig.colorbar(rois, label=\"% ΔF/F (1 AP)\", drawedges=False, pad=0.1)\n",
    "    cbar.outline.set_visible(False)"
   ]
  },
  {
   "cell_type": "code",
   "execution_count": 6,
   "id": "68823c6f-b971-4d86-a1bb-1157c6a3c2a1",
   "metadata": {},
   "outputs": [
    {
     "data": {
      "text/plain": [
       "CLSimulator(io_processor=RecordOnlyProcessor(sample_period=1. * msecond, sampling='fixed', processing='parallel'), devices={GECI(name='jGCaMP7f', save_history=True, model='\\n            dCa/dt = -gamma * (Ca - Ca_rest) / (1 + kappa_S + kappa_B) : mmolar (clock-driven)\\n            kappa_B = B_T * K_d / (Ca + K_d)**2 : 1\\nCaB_active = Ca: mmolar\\nexc_factor = 1 : 1\\n\\n            dFF_baseline = 1 / (1 + (K_d / Ca_rest) ** n_H) : 1\\n            dFF = exc_factor * rho_rel * dFF_max  * (\\n                1 / (1 + (K_d / CaB_active) ** n_H)\\n                - dFF_baseline\\n            ) : 1\\n            rho_rel : 1\\n        ', on_pre='Ca += dCa_T / (1 + kappa_S + kappa_B)', sigma_noise=0.021763636363636363, dFF_1AP=0.22743000000000002, location='cytoplasm', cal_model=DynamicCalcium(on_pre='Ca += dCa_T / (1 + kappa_S + kappa_B)', model='\\n            dCa/dt = -gamma * (Ca - Ca_rest) / (1 + kappa_S + kappa_B) : mmolar (clock-driven)\\n            kappa_B = B_T * K_d / (Ca + K_d)**2 : 1', Ca_rest=50. * nmolar, gamma=292.3 * hertz, B_T=200. * umolar, kappa_S=110, dCa_T=7.6 * umolar), bind_act_model=NullBindingActivation(model='CaB_active = Ca: mmolar'), exc_model=NullExcitation(model='exc_factor = 1 : 1'), fluor_model='\\n            dFF_baseline = 1 / (1 + (K_d / Ca_rest) ** n_H) : 1\\n            dFF = exc_factor * rho_rel * dFF_max  * (\\n                1 / (1 + (K_d / CaB_active) ** n_H)\\n                - dFF_baseline\\n            ) : 1\\n            rho_rel : 1\\n        ', K_d=174. * nmolar, n_H=2.3, dFF_max=30.2), Scope(name='scope1', save_history=True, sensor=GECI(name='jGCaMP7f', save_history=True, model='\\n            dCa/dt = -gamma * (Ca - Ca_rest) / (1 + kappa_S + kappa_B) : mmolar (clock-driven)\\n            kappa_B = B_T * K_d / (Ca + K_d)**2 : 1\\nCaB_active = Ca: mmolar\\nexc_factor = 1 : 1\\n\\n            dFF_baseline = 1 / (1 + (K_d / Ca_rest) ** n_H) : 1\\n            dFF = exc_factor * rho_rel * dFF_max  * (\\n                1 / (1 + (K_d / CaB_active) ** n_H)\\n                - dFF_baseline\\n            ) : 1\\n            rho_rel : 1\\n        ', on_pre='Ca += dCa_T / (1 + kappa_S + kappa_B)', sigma_noise=0.021763636363636363, dFF_1AP=0.22743000000000002, location='cytoplasm', cal_model=DynamicCalcium(on_pre='Ca += dCa_T / (1 + kappa_S + kappa_B)', model='\\n            dCa/dt = -gamma * (Ca - Ca_rest) / (1 + kappa_S + kappa_B) : mmolar (clock-driven)\\n            kappa_B = B_T * K_d / (Ca + K_d)**2 : 1', Ca_rest=50. * nmolar, gamma=292.3 * hertz, B_T=200. * umolar, kappa_S=110, dCa_T=7.6 * umolar), bind_act_model=NullBindingActivation(model='CaB_active = Ca: mmolar'), exc_model=NullExcitation(model='exc_factor = 1 : 1'), fluor_model='\\n            dFF_baseline = 1 / (1 + (K_d / Ca_rest) ** n_H) : 1\\n            dFF = exc_factor * rho_rel * dFF_max  * (\\n                1 / (1 + (K_d / CaB_active) ** n_H)\\n                - dFF_baseline\\n            ) : 1\\n            rho_rel : 1\\n        ', K_d=174. * nmolar, n_H=2.3, dFF_max=30.2), img_width=150. * umetre, focus_depth=100. * umetre, location=array([0., 0., 0.]) * metre, direction=array([0., 0., 1.]), soma_radius=10. * umetre, snr_cutoff=1), GECI(name='OGB-1', save_history=True, model='\\n            dCa/dt = -gamma * (Ca - Ca_rest) / (1 + kappa_S + kappa_B) : mmolar (clock-driven)\\n            kappa_B = B_T * K_d / (Ca + K_d)**2 : 1\\nCaB_active = Ca: mmolar\\nexc_factor = 1 : 1\\n\\n            dFF_baseline = 1 / (1 + (K_d / Ca_rest) ** n_H) : 1\\n            dFF = exc_factor * rho_rel * dFF_max  * (\\n                1 / (1 + (K_d / CaB_active) ** n_H)\\n                - dFF_baseline\\n            ) : 1\\n            rho_rel : 1\\n        ', on_pre='Ca += dCa_T / (1 + kappa_S + kappa_B)', sigma_noise=0.030227272727272728, dFF_1AP=None, location='cytoplasm', cal_model=DynamicCalcium(on_pre='Ca += dCa_T / (1 + kappa_S + kappa_B)', model='\\n            dCa/dt = -gamma * (Ca - Ca_rest) / (1 + kappa_S + kappa_B) : mmolar (clock-driven)\\n            kappa_B = B_T * K_d / (Ca + K_d)**2 : 1', Ca_rest=50. * nmolar, gamma=292.3 * hertz, B_T=200. * umolar, kappa_S=110, dCa_T=7.6 * umolar), bind_act_model=NullBindingActivation(model='CaB_active = Ca: mmolar'), exc_model=NullExcitation(model='exc_factor = 1 : 1'), fluor_model='\\n            dFF_baseline = 1 / (1 + (K_d / Ca_rest) ** n_H) : 1\\n            dFF = exc_factor * rho_rel * dFF_max  * (\\n                1 / (1 + (K_d / CaB_active) ** n_H)\\n                - dFF_baseline\\n            ) : 1\\n            rho_rel : 1\\n        ', K_d=250. * nmolar, n_H=1, dFF_max=14), Scope(name='scope0', save_history=True, sensor=GECI(name='GCaMP6f', save_history=True, model='\\n            dCa/dt = -gamma * (Ca - Ca_rest) / (1 + kappa_S + kappa_B) : mmolar (clock-driven)\\n            kappa_B = B_T * K_d / (Ca + K_d)**2 : 1\\nCaB_active = Ca: mmolar\\nexc_factor = 1 : 1\\n\\n            dFF_baseline = 1 / (1 + (K_d / Ca_rest) ** n_H) : 1\\n            dFF = exc_factor * rho_rel * dFF_max  * (\\n                1 / (1 + (K_d / CaB_active) ** n_H)\\n                - dFF_baseline\\n            ) : 1\\n            rho_rel : 1\\n        ', on_pre='Ca += dCa_T / (1 + kappa_S + kappa_B)', sigma_noise=0.03748181818181818, dFF_1AP=0.09775500000000001, location='cytoplasm', cal_model=DynamicCalcium(on_pre='Ca += dCa_T / (1 + kappa_S + kappa_B)', model='\\n            dCa/dt = -gamma * (Ca - Ca_rest) / (1 + kappa_S + kappa_B) : mmolar (clock-driven)\\n            kappa_B = B_T * K_d / (Ca + K_d)**2 : 1', Ca_rest=50. * nmolar, gamma=292.3 * hertz, B_T=200. * umolar, kappa_S=110, dCa_T=7.6 * umolar), bind_act_model=NullBindingActivation(model='CaB_active = Ca: mmolar'), exc_model=NullExcitation(model='exc_factor = 1 : 1'), fluor_model='\\n            dFF_baseline = 1 / (1 + (K_d / Ca_rest) ** n_H) : 1\\n            dFF = exc_factor * rho_rel * dFF_max  * (\\n                1 / (1 + (K_d / CaB_active) ** n_H)\\n                - dFF_baseline\\n            ) : 1\\n            rho_rel : 1\\n        ', K_d=290. * nmolar, n_H=2.7, dFF_max=25.2), img_width=150. * umetre, focus_depth=100. * umetre, location=array([0., 0., 0.]) * metre, direction=array([0., 0., 1.]), soma_radius=10. * umetre, snr_cutoff=1), Scope(name='scope2', save_history=True, sensor=GECI(name='OGB-1', save_history=True, model='\\n            dCa/dt = -gamma * (Ca - Ca_rest) / (1 + kappa_S + kappa_B) : mmolar (clock-driven)\\n            kappa_B = B_T * K_d / (Ca + K_d)**2 : 1\\nCaB_active = Ca: mmolar\\nexc_factor = 1 : 1\\n\\n            dFF_baseline = 1 / (1 + (K_d / Ca_rest) ** n_H) : 1\\n            dFF = exc_factor * rho_rel * dFF_max  * (\\n                1 / (1 + (K_d / CaB_active) ** n_H)\\n                - dFF_baseline\\n            ) : 1\\n            rho_rel : 1\\n        ', on_pre='Ca += dCa_T / (1 + kappa_S + kappa_B)', sigma_noise=0.030227272727272728, dFF_1AP=None, location='cytoplasm', cal_model=DynamicCalcium(on_pre='Ca += dCa_T / (1 + kappa_S + kappa_B)', model='\\n            dCa/dt = -gamma * (Ca - Ca_rest) / (1 + kappa_S + kappa_B) : mmolar (clock-driven)\\n            kappa_B = B_T * K_d / (Ca + K_d)**2 : 1', Ca_rest=50. * nmolar, gamma=292.3 * hertz, B_T=200. * umolar, kappa_S=110, dCa_T=7.6 * umolar), bind_act_model=NullBindingActivation(model='CaB_active = Ca: mmolar'), exc_model=NullExcitation(model='exc_factor = 1 : 1'), fluor_model='\\n            dFF_baseline = 1 / (1 + (K_d / Ca_rest) ** n_H) : 1\\n            dFF = exc_factor * rho_rel * dFF_max  * (\\n                1 / (1 + (K_d / CaB_active) ** n_H)\\n                - dFF_baseline\\n            ) : 1\\n            rho_rel : 1\\n        ', K_d=250. * nmolar, n_H=1, dFF_max=14), img_width=150. * umetre, focus_depth=100. * umetre, location=array([0., 0., 0.]) * metre, direction=array([0., 0., 1.]), soma_radius=10. * umetre, snr_cutoff=1), GECI(name='GCaMP6f', save_history=True, model='\\n            dCa/dt = -gamma * (Ca - Ca_rest) / (1 + kappa_S + kappa_B) : mmolar (clock-driven)\\n            kappa_B = B_T * K_d / (Ca + K_d)**2 : 1\\nCaB_active = Ca: mmolar\\nexc_factor = 1 : 1\\n\\n            dFF_baseline = 1 / (1 + (K_d / Ca_rest) ** n_H) : 1\\n            dFF = exc_factor * rho_rel * dFF_max  * (\\n                1 / (1 + (K_d / CaB_active) ** n_H)\\n                - dFF_baseline\\n            ) : 1\\n            rho_rel : 1\\n        ', on_pre='Ca += dCa_T / (1 + kappa_S + kappa_B)', sigma_noise=0.03748181818181818, dFF_1AP=0.09775500000000001, location='cytoplasm', cal_model=DynamicCalcium(on_pre='Ca += dCa_T / (1 + kappa_S + kappa_B)', model='\\n            dCa/dt = -gamma * (Ca - Ca_rest) / (1 + kappa_S + kappa_B) : mmolar (clock-driven)\\n            kappa_B = B_T * K_d / (Ca + K_d)**2 : 1', Ca_rest=50. * nmolar, gamma=292.3 * hertz, B_T=200. * umolar, kappa_S=110, dCa_T=7.6 * umolar), bind_act_model=NullBindingActivation(model='CaB_active = Ca: mmolar'), exc_model=NullExcitation(model='exc_factor = 1 : 1'), fluor_model='\\n            dFF_baseline = 1 / (1 + (K_d / Ca_rest) ** n_H) : 1\\n            dFF = exc_factor * rho_rel * dFF_max  * (\\n                1 / (1 + (K_d / CaB_active) ** n_H)\\n                - dFF_baseline\\n            ) : 1\\n            rho_rel : 1\\n        ', K_d=290. * nmolar, n_H=2.7, dFF_max=25.2)})"
      ]
     },
     "execution_count": 6,
     "metadata": {},
     "output_type": "execute_result"
    }
   ],
   "source": [
    "sim.set_io_processor(cleo.ioproc.RecordOnlyProcessor(sample_period=1*b2.ms))"
   ]
  },
  {
   "cell_type": "code",
   "execution_count": 7,
   "id": "37c4332d-d6c6-4a7f-8620-41c04da9d88c",
   "metadata": {},
   "outputs": [
    {
     "name": "stderr",
     "output_type": "stream",
     "text": [
      "INFO       No numerical integration method specified for group 'neurongroup', using method 'exact' (took 0.17s). [brian2.stateupdaters.base.method_choice]\n",
      "INFO       No numerical integration method specified for group 'syn_GCaMP6f_neurongroup', using method 'euler' (took 0.01s, trying other methods took 0.03s). [brian2.stateupdaters.base.method_choice]\n",
      "INFO       No numerical integration method specified for group 'syn_OGB_1_neurongroup', using method 'euler' (took 0.00s, trying other methods took 0.01s). [brian2.stateupdaters.base.method_choice]\n",
      "INFO       No numerical integration method specified for group 'syn_jGCaMP7f_neurongroup', using method 'euler' (took 0.01s, trying other methods took 0.01s). [brian2.stateupdaters.base.method_choice]\n"
     ]
    }
   ],
   "source": [
    "sim.run(1*b2.second)"
   ]
  },
  {
   "cell_type": "code",
   "execution_count": null,
   "id": "2679536b-d351-4567-bb03-836cf91eed32",
   "metadata": {},
   "outputs": [],
   "source": [
    "fig, ax = plt.subplots()\n",
    "\n",
    "for scope in scopes:\n",
    "    i_all_targets = scope.i_targets_for_neuron_group()"
   ]
  }
 ],
 "metadata": {
  "kernelspec": {
   "display_name": "Python cleosim-py3.12",
   "language": "python",
   "name": "cleosim-py3.12"
  },
  "language_info": {
   "codemirror_mode": {
    "name": "ipython",
    "version": 3
   },
   "file_extension": ".py",
   "mimetype": "text/x-python",
   "name": "python",
   "nbconvert_exporter": "python",
   "pygments_lexer": "ipython3",
   "version": "3.12.7"
  }
 },
 "nbformat": 4,
 "nbformat_minor": 5
}
