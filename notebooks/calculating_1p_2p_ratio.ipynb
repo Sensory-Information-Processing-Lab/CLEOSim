{
 "cells": [
  {
   "cell_type": "markdown",
   "id": "c1d6e492",
   "metadata": {},
   "source": [
    "We wish to find a ratio between 1p and 2p action spectra using Fig 2b,2d from Sridharan 2022\n",
    "![pic](calculating_1p_2p_sridharan_fig2.jpg)"
   ]
  },
  {
   "cell_type": "code",
   "execution_count": 3,
   "id": "ecf42650",
   "metadata": {},
   "outputs": [
    {
     "name": "stdout",
     "output_type": "stream",
     "text": [
      "Therefore 50 mW corresponds to 159154.94309189534 mW/mm2\n"
     ]
    }
   ],
   "source": [
    "import numpy as np\n",
    "\n",
    "#Calculting mw -> mw/mm2 by dividing by soma area\n",
    "power_mW = 50\n",
    "cell_radius = 0.010  # mm\n",
    "cell_area = np.pi * cell_radius**2\n",
    "Irr0_mW_per_mm2 = power_mW / cell_area\n",
    "print(f\"Therefore {power_mW} mW corresponds to {Irr0_mW_per_mm2} mW/mm2\")"
   ]
  },
  {
   "cell_type": "markdown",
   "id": "483a9044",
   "metadata": {},
   "source": [
    "Now, we use plot digitizer to get the value of 2p at 1.42 mW - PlotDigitizer is not accurate enough to find value at 1.42 due to it being very small. So I find the point closest to 1.42 on the plot, which is the red point in the very bottom left. Then draw a line from (0,0) to that point and then use that line to solve for 1.42\n",
    "\n",
    "Then we use plot digitizer to get point from 1p graph for 1.42 mW"
   ]
  },
  {
   "cell_type": "code",
   "execution_count": 7,
   "id": "44db420b",
   "metadata": {},
   "outputs": [
    {
     "data": {
      "text/plain": [
       "234165.46808748253"
      ]
     },
     "execution_count": 7,
     "metadata": {},
     "output_type": "execute_result"
    }
   ],
   "source": [
    "x_point = 6005.872104485208\t\n",
    "y_point = 0.08430914554056666\n",
    "\n",
    "def f(x):\n",
    "    #using point slope form\n",
    "    m = y_point/x_point #slope from 0,0 to point\n",
    "    return m*(x-x_point) + y_point\n",
    "\n",
    "two_p_point = f(1.42)\n",
    "one_p_point = 4.667773816068722\n",
    "\n",
    "ratio = one_p_point/two_p_point\n",
    "ratio\n"
   ]
  },
  {
   "cell_type": "code",
   "execution_count": null,
   "id": "214292ce",
   "metadata": {},
   "outputs": [],
   "source": []
  }
 ],
 "metadata": {
  "kernelspec": {
   "display_name": "Python 3",
   "language": "python",
   "name": "python3"
  },
  "language_info": {
   "codemirror_mode": {
    "name": "ipython",
    "version": 3
   },
   "file_extension": ".py",
   "mimetype": "text/x-python",
   "name": "python",
   "nbconvert_exporter": "python",
   "pygments_lexer": "ipython3",
   "version": "3.12.1"
  }
 },
 "nbformat": 4,
 "nbformat_minor": 5
}
