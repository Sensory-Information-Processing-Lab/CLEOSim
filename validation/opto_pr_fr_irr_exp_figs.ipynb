{
 "cells": [
  {
   "cell_type": "markdown",
   "metadata": {},
   "source": [
    "# Firing vs. stimulation frequency for different irradiance and expression levels\n",
    "\n",
    "Here we'll replicate figure 4 of Foutz et al., 2012, relating firing rate to stimulation frequency for (a) a range of irradiances and (b) a range of channel densities. Stimulation is a train of 5-ms pulses.\n",
    "\n",
    "Original figure:\n",
    "\n",
    "<img src=\"foutz12_4_original.jpg\" alt=\"Foutz et al. 2012 Figure 4\" height=\"300\"/>\n",
    "<!-- ![Foutz et al., 2012 Figure 4](foutz12_4_original.jpg) | ![Replication of Foutz et al., 2012 Figure 4](foutz12_4_replicated.svg) -->"
   ]
  },
  {
   "cell_type": "code",
   "execution_count": 102,
   "metadata": {},
   "outputs": [
    {
     "name": "stdout",
     "output_type": "stream",
     "text": [
      "The autoreload extension is already loaded. To reload it, use:\n",
      "  %reload_ext autoreload\n"
     ]
    }
   ],
   "source": [
    "%load_ext autoreload\n",
    "%autoreload 2\n",
    "import matplotlib\n",
    "import matplotlib.pyplot as plt\n",
    "import seaborn as sns\n",
    "# matplotlib.style.use(['seaborn', 'seaborn-notebook', 'dark_background'])\n",
    "matplotlib.style.use(['seaborn-paper'])\n",
    "matplotlib.rcParams['font.sans-serif'] = \"Open Sans\"\n",
    "matplotlib.rcParams['svg.fonttype'] = \"none\""
   ]
  },
  {
   "cell_type": "code",
   "execution_count": 103,
   "metadata": {},
   "outputs": [],
   "source": [
    "# We can run all the simulations at once using 5 neurons\n",
    "# the 1.2*Irr0_thres, 1*rho condition is repeated in the two subpanels\n",
    "from opto_val import lif, adex, Iopto_gain_from_factor\n",
    "from brian2 import SpikeMonitor, Network, StateMonitor, prefs\n",
    "from cleosim import CLSimulator\n",
    "from cleosim.opto import *\n",
    "\n",
    "prefs.codegen.target = \"numpy\"\n",
    "\n",
    "\n",
    "def make_ngs(n):\n",
    "    return [\n",
    "        lif(n, \"LIF_simple\"),\n",
    "        lif(n, \"LIF_Markov\"),\n",
    "        adex(n, \"AdEx_simple\"),\n",
    "        adex(n, \"AdEx_Markov\"),\n",
    "    ]\n",
    "\n",
    "ngs = make_ngs(5)\n",
    "spike_mons = {}\n",
    "from cleosim.coordinates import assign_coords_rand_rect_prism\n",
    "\n",
    "for ng in ngs:\n",
    "    spike_mons[ng.name] = SpikeMonitor(ng, record=True)\n",
    "    # distance of 1 mm\n",
    "    assign_coords_rand_rect_prism(ng, xlim=(0, 0), ylim=(0, 0), zlim=(1, 1))\n",
    "\n",
    "net = Network(*ngs, *spike_mons.values())\n",
    "sim = CLSimulator(net)\n",
    "\n",
    "simple_opto_gain_factor = 15\n",
    "\n",
    "sopto = OptogeneticIntervention(\n",
    "    name=\"sopto\",\n",
    "    opsin_model=ProportionalCurrentModel(\n",
    "        # same as threshold figure, but may be too weak\n",
    "        Iopto_per_mW_per_mm2=Iopto_gain_from_factor(simple_opto_gain_factor)\n",
    "    ),\n",
    "    light_model_params=default_blue,\n",
    "    location=(0, 0, 0) * mm,\n",
    ")\n",
    "mopto = OptogeneticIntervention(\n",
    "    name=\"mopto\",\n",
    "    opsin_model=FourStateModel(ChR2_four_state),\n",
    "    light_model_params=default_blue,\n",
    "    location=(0, 0, 0) * mm,\n",
    ")\n",
    "# neurons 1, 3, 4 (0-index) for varying channel density\n",
    "rho_rel = [1, 1, 1, 1.5, 0.75]\n",
    "sim.inject_stimulator(sopto, ngs[0], ngs[2], rho_rel=rho_rel)\n",
    "sim.inject_stimulator(mopto, ngs[1], ngs[3], rho_rel=rho_rel)\n",
    "# neurons 0, 1, and 2 will have varying irradiance\n",
    "Irr0_ratio = [1.4, 1.2, 1, 1.2, 1.2]\n",
    "for opto_syn in [*sopto.opto_syns.values(), *mopto.opto_syns.values()]:\n",
    "    opto_syn.T *= Irr0_ratio\n",
    "    # opto_syn.T[0] *= 1.4\n",
    "    # opto_syn.T[1] *= 1.2\n",
    "    # opto_syn.T[3:] *= 1.2\n",
    "\n",
    "sim.network.store()"
   ]
  },
  {
   "cell_type": "markdown",
   "metadata": {},
   "source": [
    "We need irradiance thresholds for each neuron type for a 5-ms pulse:"
   ]
  },
  {
   "cell_type": "code",
   "execution_count": 104,
   "metadata": {},
   "outputs": [
    {
     "data": {
      "text/plain": [
       "{'LIF_simple': 134.2010498046875,\n",
       " 'LIF_Markov': 12.7410888671875,\n",
       " 'AdEx_simple': 164.8712158203125,\n",
       " 'AdEx_Markov': 16.8609619140625}"
      ]
     },
     "execution_count": 104,
     "metadata": {},
     "output_type": "execute_result"
    }
   ],
   "source": [
    "from opto_val import get_Irr0_thres\n",
    "\n",
    "Irr0_thres = {ng.name: {} for ng in ngs}\n",
    "for ng in make_ngs(1):\n",
    "    simple_opto = \"simple\" in ng.name\n",
    "    Irr0_thres[ng.name] = get_Irr0_thres(\n",
    "        [5],\n",
    "        1,\n",
    "        ng,\n",
    "        simple_opto=simple_opto,\n",
    "        gain_factor=simple_opto_gain_factor,\n",
    "        precision=0.1,\n",
    "        target=\"numpy\",\n",
    "    )[0]\n",
    "Irr0_thres\n"
   ]
  },
  {
   "cell_type": "markdown",
   "metadata": {},
   "source": [
    "We prepare a pandas dataframe to store data in tidy format:"
   ]
  },
  {
   "cell_type": "code",
   "execution_count": 105,
   "metadata": {},
   "outputs": [
    {
     "data": {
      "text/html": [
       "<div>\n",
       "<style scoped>\n",
       "    .dataframe tbody tr th:only-of-type {\n",
       "        vertical-align: middle;\n",
       "    }\n",
       "\n",
       "    .dataframe tbody tr th {\n",
       "        vertical-align: top;\n",
       "    }\n",
       "\n",
       "    .dataframe thead th {\n",
       "        text-align: right;\n",
       "    }\n",
       "</style>\n",
       "<table border=\"1\" class=\"dataframe\">\n",
       "  <thead>\n",
       "    <tr style=\"text-align: right;\">\n",
       "      <th></th>\n",
       "      <th>name</th>\n",
       "      <th>pulse_rate</th>\n",
       "      <th>firing_rate</th>\n",
       "      <th>Irr0/Irr0_thres</th>\n",
       "      <th>rho_rel</th>\n",
       "    </tr>\n",
       "  </thead>\n",
       "  <tbody>\n",
       "  </tbody>\n",
       "</table>\n",
       "</div>"
      ],
      "text/plain": [
       "Empty DataFrame\n",
       "Columns: [name, pulse_rate, firing_rate, Irr0/Irr0_thres, rho_rel]\n",
       "Index: []"
      ]
     },
     "execution_count": 105,
     "metadata": {},
     "output_type": "execute_result"
    }
   ],
   "source": [
    "import pandas as pd\n",
    "df = pd.DataFrame(columns=['name', 'pulse_rate', 'firing_rate', 'Irr0/Irr0_thres', 'rho_rel'])\n",
    "df"
   ]
  },
  {
   "cell_type": "markdown",
   "metadata": {},
   "source": [
    "Next we load the original data for comparison. First, from the top panel, showing data for different irradiance levels."
   ]
  },
  {
   "cell_type": "code",
   "execution_count": 106,
   "metadata": {},
   "outputs": [
    {
     "data": {
      "text/html": [
       "<div>\n",
       "<style scoped>\n",
       "    .dataframe tbody tr th:only-of-type {\n",
       "        vertical-align: middle;\n",
       "    }\n",
       "\n",
       "    .dataframe tbody tr th {\n",
       "        vertical-align: top;\n",
       "    }\n",
       "\n",
       "    .dataframe thead th {\n",
       "        text-align: right;\n",
       "    }\n",
       "</style>\n",
       "<table border=\"1\" class=\"dataframe\">\n",
       "  <thead>\n",
       "    <tr style=\"text-align: right;\">\n",
       "      <th></th>\n",
       "      <th>1.4</th>\n",
       "      <th>Unnamed: 1</th>\n",
       "      <th>1.2</th>\n",
       "      <th>Unnamed: 3</th>\n",
       "      <th>1</th>\n",
       "      <th>Unnamed: 5</th>\n",
       "    </tr>\n",
       "  </thead>\n",
       "  <tbody>\n",
       "    <tr>\n",
       "      <th>0</th>\n",
       "      <td>X</td>\n",
       "      <td>Y</td>\n",
       "      <td>X</td>\n",
       "      <td>Y</td>\n",
       "      <td>X</td>\n",
       "      <td>Y</td>\n",
       "    </tr>\n",
       "    <tr>\n",
       "      <th>1</th>\n",
       "      <td>0.2440316822846853</td>\n",
       "      <td>0.685016323314187</td>\n",
       "      <td>0.5926483712628183</td>\n",
       "      <td>0.8609141055949578</td>\n",
       "      <td>0.7669567157518813</td>\n",
       "      <td>0.15732297647190308</td>\n",
       "    </tr>\n",
       "    <tr>\n",
       "      <th>2</th>\n",
       "      <td>97.3337795626952</td>\n",
       "      <td>97.07700101317123</td>\n",
       "      <td>90.71006247211064</td>\n",
       "      <td>90.21698750422155</td>\n",
       "      <td>10.702532351628733</td>\n",
       "      <td>0.5091185410334447</td>\n",
       "    </tr>\n",
       "    <tr>\n",
       "      <th>3</th>\n",
       "      <td>105.70058009817045</td>\n",
       "      <td>101.65034335247103</td>\n",
       "      <td>99.77409638554217</td>\n",
       "      <td>94.0867387143983</td>\n",
       "      <td>25.518741633199454</td>\n",
       "      <td>3.323483057525607</td>\n",
       "    </tr>\n",
       "    <tr>\n",
       "      <th>4</th>\n",
       "      <td>114.93892235609103</td>\n",
       "      <td>103.9370145221209</td>\n",
       "      <td>119.47093931280678</td>\n",
       "      <td>97.95648992457504</td>\n",
       "      <td>31.445225345827737</td>\n",
       "      <td>5.258358662614</td>\n",
       "    </tr>\n",
       "  </tbody>\n",
       "</table>\n",
       "</div>"
      ],
      "text/plain": [
       "                  1.4          Unnamed: 1                 1.2  \\\n",
       "0                   X                   Y                   X   \n",
       "1  0.2440316822846853   0.685016323314187  0.5926483712628183   \n",
       "2    97.3337795626952   97.07700101317123   90.71006247211064   \n",
       "3  105.70058009817045  101.65034335247103   99.77409638554217   \n",
       "4  114.93892235609103   103.9370145221209  119.47093931280678   \n",
       "\n",
       "           Unnamed: 3                   1           Unnamed: 5  \n",
       "0                   Y                   X                    Y  \n",
       "1  0.8609141055949578  0.7669567157518813  0.15732297647190308  \n",
       "2   90.21698750422155  10.702532351628733   0.5091185410334447  \n",
       "3    94.0867387143983  25.518741633199454    3.323483057525607  \n",
       "4   97.95648992457504  31.445225345827737       5.258358662614  "
      ]
     },
     "execution_count": 106,
     "metadata": {},
     "output_type": "execute_result"
    }
   ],
   "source": [
    "wpd_data_irr = pd.read_csv('data/foutz12_4a_wpd.csv')\n",
    "wpd_data_irr.head()"
   ]
  },
  {
   "cell_type": "code",
   "execution_count": 107,
   "metadata": {},
   "outputs": [
    {
     "data": {
      "text/html": [
       "<div>\n",
       "<style scoped>\n",
       "    .dataframe tbody tr th:only-of-type {\n",
       "        vertical-align: middle;\n",
       "    }\n",
       "\n",
       "    .dataframe tbody tr th {\n",
       "        vertical-align: top;\n",
       "    }\n",
       "\n",
       "    .dataframe thead th {\n",
       "        text-align: right;\n",
       "    }\n",
       "</style>\n",
       "<table border=\"1\" class=\"dataframe\">\n",
       "  <thead>\n",
       "    <tr style=\"text-align: right;\">\n",
       "      <th></th>\n",
       "      <th>name</th>\n",
       "      <th>pulse_rate</th>\n",
       "      <th>firing_rate</th>\n",
       "      <th>Irr0/Irr0_thres</th>\n",
       "      <th>rho_rel</th>\n",
       "    </tr>\n",
       "  </thead>\n",
       "  <tbody>\n",
       "    <tr>\n",
       "      <th>39</th>\n",
       "      <td>MCHH_Markov</td>\n",
       "      <td>139.167782</td>\n",
       "      <td>91.975965</td>\n",
       "      <td>1.0</td>\n",
       "      <td>1.0</td>\n",
       "    </tr>\n",
       "    <tr>\n",
       "      <th>40</th>\n",
       "      <td>MCHH_Markov</td>\n",
       "      <td>150.672133</td>\n",
       "      <td>96.549308</td>\n",
       "      <td>1.0</td>\n",
       "      <td>1.0</td>\n",
       "    </tr>\n",
       "    <tr>\n",
       "      <th>41</th>\n",
       "      <td>MCHH_Markov</td>\n",
       "      <td>156.075692</td>\n",
       "      <td>97.077001</td>\n",
       "      <td>1.0</td>\n",
       "      <td>1.0</td>\n",
       "    </tr>\n",
       "    <tr>\n",
       "      <th>42</th>\n",
       "      <td>MCHH_Markov</td>\n",
       "      <td>176.644076</td>\n",
       "      <td>101.298548</td>\n",
       "      <td>1.0</td>\n",
       "      <td>1.0</td>\n",
       "    </tr>\n",
       "    <tr>\n",
       "      <th>43</th>\n",
       "      <td>MCHH_Markov</td>\n",
       "      <td>199.827086</td>\n",
       "      <td>105.871890</td>\n",
       "      <td>1.0</td>\n",
       "      <td>1.0</td>\n",
       "    </tr>\n",
       "  </tbody>\n",
       "</table>\n",
       "</div>"
      ],
      "text/plain": [
       "           name  pulse_rate  firing_rate  Irr0/Irr0_thres  rho_rel\n",
       "39  MCHH_Markov  139.167782    91.975965              1.0      1.0\n",
       "40  MCHH_Markov  150.672133    96.549308              1.0      1.0\n",
       "41  MCHH_Markov  156.075692    97.077001              1.0      1.0\n",
       "42  MCHH_Markov  176.644076   101.298548              1.0      1.0\n",
       "43  MCHH_Markov  199.827086   105.871890              1.0      1.0"
      ]
     },
     "execution_count": 107,
     "metadata": {},
     "output_type": "execute_result"
    }
   ],
   "source": [
    "for i_col in [0, 2, 4]:\n",
    "    for i_row in range(1, len(wpd_data_irr)):\n",
    "        if pd.isna(wpd_data_irr.iloc[i_row, i_col]):\n",
    "            continue\n",
    "        df.loc[len(df)] = [\n",
    "            \"MCHH_Markov\",  # name\n",
    "            wpd_data_irr.iloc[i_row, i_col],  # pulse rate\n",
    "            wpd_data_irr.iloc[i_row, i_col + 1],  # firing rate\n",
    "            wpd_data_irr.columns[i_col],  # Irr0/Irr0_thres\n",
    "            1,  # rho_rel\n",
    "        ]\n",
    "df = df.astype(\n",
    "    {\n",
    "        \"pulse_rate\": float,\n",
    "        \"firing_rate\": float,\n",
    "        \"Irr0/Irr0_thres\": float,\n",
    "        \"rho_rel\": float,\n",
    "    }\n",
    ")\n",
    "df.tail()\n"
   ]
  },
  {
   "cell_type": "markdown",
   "metadata": {},
   "source": [
    "Now for the bottom panel with varying levels of opsin expression:"
   ]
  },
  {
   "cell_type": "code",
   "execution_count": 108,
   "metadata": {},
   "outputs": [
    {
     "data": {
      "text/html": [
       "<div>\n",
       "<style scoped>\n",
       "    .dataframe tbody tr th:only-of-type {\n",
       "        vertical-align: middle;\n",
       "    }\n",
       "\n",
       "    .dataframe tbody tr th {\n",
       "        vertical-align: top;\n",
       "    }\n",
       "\n",
       "    .dataframe thead th {\n",
       "        text-align: right;\n",
       "    }\n",
       "</style>\n",
       "<table border=\"1\" class=\"dataframe\">\n",
       "  <thead>\n",
       "    <tr style=\"text-align: right;\">\n",
       "      <th></th>\n",
       "      <th>1.5</th>\n",
       "      <th>Unnamed: 1</th>\n",
       "      <th>1</th>\n",
       "      <th>Unnamed: 3</th>\n",
       "      <th>0.75</th>\n",
       "      <th>Unnamed: 5</th>\n",
       "    </tr>\n",
       "  </thead>\n",
       "  <tbody>\n",
       "    <tr>\n",
       "      <th>0</th>\n",
       "      <td>X</td>\n",
       "      <td>Y</td>\n",
       "      <td>X</td>\n",
       "      <td>Y</td>\n",
       "      <td>X</td>\n",
       "      <td>Y</td>\n",
       "    </tr>\n",
       "    <tr>\n",
       "      <th>1</th>\n",
       "      <td>0.18040727560301661</td>\n",
       "      <td>0.06011857180919833</td>\n",
       "      <td>0.07743508633190288</td>\n",
       "      <td>0.06011857180919833</td>\n",
       "      <td>0.48932384341637913</td>\n",
       "      <td>0.06011857180919833</td>\n",
       "    </tr>\n",
       "    <tr>\n",
       "      <th>2</th>\n",
       "      <td>89.76621194147889</td>\n",
       "      <td>89.98817612576605</td>\n",
       "      <td>90.2810728878345</td>\n",
       "      <td>89.98817612576605</td>\n",
       "      <td>20.36295637274287</td>\n",
       "      <td>20.148214761524116</td>\n",
       "    </tr>\n",
       "    <tr>\n",
       "      <th>3</th>\n",
       "      <td>100.37234743640441</td>\n",
       "      <td>100.29243272049027</td>\n",
       "      <td>99.8574864900488</td>\n",
       "      <td>93.943345323741</td>\n",
       "      <td>29.527481217872705</td>\n",
       "      <td>21.605382360778037</td>\n",
       "    </tr>\n",
       "    <tr>\n",
       "      <th>4</th>\n",
       "      <td>110.46362198497432</td>\n",
       "      <td>105.18435251798559</td>\n",
       "      <td>120.14300777645975</td>\n",
       "      <td>97.89851452171592</td>\n",
       "      <td>37.147423223935704</td>\n",
       "      <td>27.329969357847034</td>\n",
       "    </tr>\n",
       "  </tbody>\n",
       "</table>\n",
       "</div>"
      ],
      "text/plain": [
       "                   1.5           Unnamed: 1                    1  \\\n",
       "0                    X                    Y                    X   \n",
       "1  0.18040727560301661  0.06011857180919833  0.07743508633190288   \n",
       "2    89.76621194147889    89.98817612576605     90.2810728878345   \n",
       "3   100.37234743640441   100.29243272049027     99.8574864900488   \n",
       "4   110.46362198497432   105.18435251798559   120.14300777645975   \n",
       "\n",
       "            Unnamed: 3                 0.75           Unnamed: 5  \n",
       "0                    Y                    X                    Y  \n",
       "1  0.06011857180919833  0.48932384341637913  0.06011857180919833  \n",
       "2    89.98817612576605    20.36295637274287   20.148214761524116  \n",
       "3      93.943345323741   29.527481217872705   21.605382360778037  \n",
       "4    97.89851452171592   37.147423223935704   27.329969357847034  "
      ]
     },
     "execution_count": 108,
     "metadata": {},
     "output_type": "execute_result"
    }
   ],
   "source": [
    "wpd_data_exp = pd.read_csv('data/foutz12_4b_wpd.csv')\n",
    "wpd_data_exp.head()"
   ]
  },
  {
   "cell_type": "code",
   "execution_count": 109,
   "metadata": {},
   "outputs": [
    {
     "data": {
      "text/html": [
       "<div>\n",
       "<style scoped>\n",
       "    .dataframe tbody tr th:only-of-type {\n",
       "        vertical-align: middle;\n",
       "    }\n",
       "\n",
       "    .dataframe tbody tr th {\n",
       "        vertical-align: top;\n",
       "    }\n",
       "\n",
       "    .dataframe thead th {\n",
       "        text-align: right;\n",
       "    }\n",
       "</style>\n",
       "<table border=\"1\" class=\"dataframe\">\n",
       "  <thead>\n",
       "    <tr style=\"text-align: right;\">\n",
       "      <th></th>\n",
       "      <th>name</th>\n",
       "      <th>pulse_rate</th>\n",
       "      <th>firing_rate</th>\n",
       "      <th>Irr0/Irr0_thres</th>\n",
       "      <th>rho_rel</th>\n",
       "    </tr>\n",
       "  </thead>\n",
       "  <tbody>\n",
       "    <tr>\n",
       "      <th>79</th>\n",
       "      <td>MCHH_Markov</td>\n",
       "      <td>161.33188348490842</td>\n",
       "      <td>98.00259792166267</td>\n",
       "      <td>1.2</td>\n",
       "      <td>0.75</td>\n",
       "    </tr>\n",
       "    <tr>\n",
       "      <th>80</th>\n",
       "      <td>MCHH_Markov</td>\n",
       "      <td>170.0845195729538</td>\n",
       "      <td>99.8760991207034</td>\n",
       "      <td>1.2</td>\n",
       "      <td>0.75</td>\n",
       "    </tr>\n",
       "    <tr>\n",
       "      <th>81</th>\n",
       "      <td>MCHH_Markov</td>\n",
       "      <td>179.8668775537103</td>\n",
       "      <td>104.1435185185185</td>\n",
       "      <td>1.2</td>\n",
       "      <td>0.75</td>\n",
       "    </tr>\n",
       "    <tr>\n",
       "      <th>82</th>\n",
       "      <td>MCHH_Markov</td>\n",
       "      <td>190.16409648082248</td>\n",
       "      <td>106.32926991739942</td>\n",
       "      <td>1.2</td>\n",
       "      <td>0.75</td>\n",
       "    </tr>\n",
       "    <tr>\n",
       "      <th>83</th>\n",
       "      <td>MCHH_Markov</td>\n",
       "      <td>199.63753789376568</td>\n",
       "      <td>105.91293631761255</td>\n",
       "      <td>1.2</td>\n",
       "      <td>0.75</td>\n",
       "    </tr>\n",
       "  </tbody>\n",
       "</table>\n",
       "</div>"
      ],
      "text/plain": [
       "           name          pulse_rate         firing_rate  Irr0/Irr0_thres  \\\n",
       "79  MCHH_Markov  161.33188348490842   98.00259792166267              1.2   \n",
       "80  MCHH_Markov   170.0845195729538    99.8760991207034              1.2   \n",
       "81  MCHH_Markov   179.8668775537103   104.1435185185185              1.2   \n",
       "82  MCHH_Markov  190.16409648082248  106.32926991739942              1.2   \n",
       "83  MCHH_Markov  199.63753789376568  105.91293631761255              1.2   \n",
       "\n",
       "   rho_rel  \n",
       "79    0.75  \n",
       "80    0.75  \n",
       "81    0.75  \n",
       "82    0.75  \n",
       "83    0.75  "
      ]
     },
     "execution_count": 109,
     "metadata": {},
     "output_type": "execute_result"
    }
   ],
   "source": [
    "for i_col in [0, 2, 4]:\n",
    "    for i_row in range(1, len(wpd_data_exp)):\n",
    "        if pd.isna(wpd_data_exp.iloc[i_row, i_col]):\n",
    "            continue\n",
    "        df.loc[len(df)] = [\n",
    "            \"MCHH_Markov\",  # name\n",
    "            wpd_data_exp.iloc[i_row, i_col],  # pulse rate\n",
    "            wpd_data_exp.iloc[i_row, i_col + 1],  # firing rate\n",
    "            1.2,  # Irr0/Irr0_thres\n",
    "            wpd_data_exp.columns[i_col],  # rho_rel\n",
    "        ]\n",
    "df.tail()"
   ]
  },
  {
   "cell_type": "code",
   "execution_count": 110,
   "metadata": {},
   "outputs": [],
   "source": [
    "from math import sin, tau\n",
    "from brian2 import Hz\n",
    "\n",
    "data_already_generated = True\n",
    "if not data_already_generated:\n",
    "    pulse_rates = np.linspace(0.1, 200, 20)\n",
    "    # pulse_rates = [20, 60, 100, 200]\n",
    "    for pulse_rate in pulse_rates * Hz:\n",
    "        sim.network.restore()\n",
    "        # use sine curve to define pulse train\n",
    "        # need threshold above which sine will be over for 5 ms at a time\n",
    "        t_peak = 1 / (4 * pulse_rate)  # where sine curve peaks\n",
    "        t_pulse_start = t_peak - 2.5 * ms  # 2.5 ms to either side of peak -> 5 ms pulse\n",
    "        sin_thres = sin(tau * pulse_rate * t_pulse_start)\n",
    "        for ng_name, opto_syn in sopto.opto_syns.items():\n",
    "            eq = f\"Irr0 = {Irr0_thres[ng_name]}*mwatt/mm2 * int(sin({tau}*pulse_rate*t) >= sin_thres)\"\n",
    "            opto_syn.run_regularly(eq)\n",
    "        for ng_name, opto_syn in mopto.opto_syns.items():\n",
    "            eq = f\"Irr0 = {Irr0_thres[ng_name]}*mwatt/mm2 * int(sin({tau}*pulse_rate*t) >= sin_thres)\"\n",
    "            opto_syn.run_regularly(eq)\n",
    "        stim_params = {\"pulse_rate\": pulse_rate, \"sin_thres\": sin_thres}\n",
    "        duration_s = 0.4\n",
    "        sim.run(duration_s * second, namespace=stim_params)\n",
    "        for ng_name, mon in spike_mons.items():\n",
    "            df = pd.concat(\n",
    "                [\n",
    "                    df,\n",
    "                    pd.DataFrame(\n",
    "                        {\n",
    "                            \"name\": ng_name,\n",
    "                            \"pulse_rate\": pulse_rate / Hz,\n",
    "                            # need to wrap VariableView in array to copy\n",
    "                            \"firing_rate\": np.array(mon.count_) / duration_s,\n",
    "                            \"Irr0/Irr0_thres\": Irr0_ratio,\n",
    "                            \"rho_rel\": rho_rel,\n",
    "                        }\n",
    "                    ),\n",
    "                ]\n",
    "            )\n",
    "\n",
    "    df.to_csv(\"data/pr_fr_irr_exp.csv\", index=False)\n",
    "    df.tail()\n"
   ]
  },
  {
   "cell_type": "code",
   "execution_count": 111,
   "metadata": {},
   "outputs": [
    {
     "data": {
      "text/html": [
       "<div>\n",
       "<style scoped>\n",
       "    .dataframe tbody tr th:only-of-type {\n",
       "        vertical-align: middle;\n",
       "    }\n",
       "\n",
       "    .dataframe tbody tr th {\n",
       "        vertical-align: top;\n",
       "    }\n",
       "\n",
       "    .dataframe thead th {\n",
       "        text-align: right;\n",
       "    }\n",
       "</style>\n",
       "<table border=\"1\" class=\"dataframe\">\n",
       "  <thead>\n",
       "    <tr style=\"text-align: right;\">\n",
       "      <th></th>\n",
       "      <th>name</th>\n",
       "      <th>pulse_rate</th>\n",
       "      <th>firing_rate</th>\n",
       "      <th>Irr0/Irr0_thres</th>\n",
       "      <th>rho_rel</th>\n",
       "    </tr>\n",
       "  </thead>\n",
       "  <tbody>\n",
       "    <tr>\n",
       "      <th>0</th>\n",
       "      <td>MCHH_Markov</td>\n",
       "      <td>0.244032</td>\n",
       "      <td>0.685016</td>\n",
       "      <td>1.4</td>\n",
       "      <td>1.0</td>\n",
       "    </tr>\n",
       "    <tr>\n",
       "      <th>1</th>\n",
       "      <td>MCHH_Markov</td>\n",
       "      <td>97.333780</td>\n",
       "      <td>97.077001</td>\n",
       "      <td>1.4</td>\n",
       "      <td>1.0</td>\n",
       "    </tr>\n",
       "    <tr>\n",
       "      <th>2</th>\n",
       "      <td>MCHH_Markov</td>\n",
       "      <td>105.700580</td>\n",
       "      <td>101.650343</td>\n",
       "      <td>1.4</td>\n",
       "      <td>1.0</td>\n",
       "    </tr>\n",
       "    <tr>\n",
       "      <th>3</th>\n",
       "      <td>MCHH_Markov</td>\n",
       "      <td>114.938922</td>\n",
       "      <td>103.937015</td>\n",
       "      <td>1.4</td>\n",
       "      <td>1.0</td>\n",
       "    </tr>\n",
       "    <tr>\n",
       "      <th>4</th>\n",
       "      <td>MCHH_Markov</td>\n",
       "      <td>122.608490</td>\n",
       "      <td>104.640606</td>\n",
       "      <td>1.4</td>\n",
       "      <td>1.0</td>\n",
       "    </tr>\n",
       "  </tbody>\n",
       "</table>\n",
       "</div>"
      ],
      "text/plain": [
       "          name  pulse_rate  firing_rate  Irr0/Irr0_thres  rho_rel\n",
       "0  MCHH_Markov    0.244032     0.685016              1.4      1.0\n",
       "1  MCHH_Markov   97.333780    97.077001              1.4      1.0\n",
       "2  MCHH_Markov  105.700580   101.650343              1.4      1.0\n",
       "3  MCHH_Markov  114.938922   103.937015              1.4      1.0\n",
       "4  MCHH_Markov  122.608490   104.640606              1.4      1.0"
      ]
     },
     "execution_count": 111,
     "metadata": {},
     "output_type": "execute_result"
    }
   ],
   "source": [
    "df = pd.read_csv('data/pr_fr_irr_exp.csv')\n",
    "df.head()"
   ]
  },
  {
   "cell_type": "code",
   "execution_count": 168,
   "metadata": {},
   "outputs": [
    {
     "name": "stderr",
     "output_type": "stream",
     "text": [
      "WARNING    /tmp/ipykernel_29651/749712918.py:14: UserWarning: Boolean Series key will be reindexed to match DataFrame index.\n",
      "  data=data[df.rho_rel == 1],\n",
      " [py.warnings]\n",
      "WARNING    /tmp/ipykernel_29651/749712918.py:19: UserWarning: Boolean Series key will be reindexed to match DataFrame index.\n",
      "  data=data[df['Irr0/Irr0_thres']== 1.2],\n",
      " [py.warnings]\n"
     ]
    },
    {
     "data": {
      "image/png": "[encoded data removed]",
      "text/plain": [
       "<Figure size 229.6x108 with 3 Axes>"
      ]
     },
     "metadata": {
      "needs_background": "light"
     },
     "output_type": "display_data"
    },
    {
     "data": {
      "image/png": "[encoded data removed]",
      "text/plain": [
       "<Figure size 229.6x108 with 3 Axes>"
      ]
     },
     "metadata": {
      "needs_background": "light"
     },
     "output_type": "display_data"
    }
   ],
   "source": [
    "def plot_fr_2panel(data, palette):\n",
    "    kwargs = {\n",
    "        \"kind\": \"line\",\n",
    "        \"col\": \"name\",\n",
    "        \"x\": \"pulse_rate\",\n",
    "        \"y\": \"firing_rate\",\n",
    "        # \"height\": 1.6,\n",
    "        # \"aspect\": 0.7,\n",
    "        \"palette\": palette,\n",
    "        \"legend\": True,\n",
    "        \"facet_kws\": {'legend_out': True},\n",
    "    }\n",
    "    g_irr = sns.relplot(\n",
    "        data=data[df.rho_rel == 1],\n",
    "        hue=\"Irr0/Irr0_thres\",\n",
    "        **kwargs,\n",
    "    )\n",
    "    g_exp = sns.relplot(\n",
    "        data=data[df['Irr0/Irr0_thres']== 1.2],\n",
    "        hue=\"rho_rel\",\n",
    "        **kwargs,\n",
    "    )\n",
    "\n",
    "    g_irr.set_axis_labels(x_var=\"\")\n",
    "    g_irr.set_titles(col_template=\"{col_name}\")\n",
    "    g_irr.legend.set_title(\"Irr0\")\n",
    "    # g_irr.set_xticklabels([])\n",
    "    g_exp.set_titles(col_template=\"\")\n",
    "\n",
    "    for g in (g_irr, g_exp):\n",
    "        g.set(xlim=(0, pulse_rates[-1]), ylim=(0, pulse_rates[-1]))\n",
    "        # g.legend.remove()\n",
    "        # g.axes[0, 2].legend(\n",
    "        #     handles=g.legend.legendHandles,\n",
    "        #     loc=\"upper left\",\n",
    "        #     title=\"title\",\n",
    "        # )\n",
    "        g.fig.set_figwidth(3.1)\n",
    "        g.fig.set_figheight(1.5)\n",
    "        g.add_legend()\n",
    "        g.fig.tight_layout()\n",
    "    return g_irr, g_exp\n",
    "\n",
    "\n",
    "g_irr, g_exp = plot_fr_2panel(\n",
    "    df[~df.name.str.contains(\"LIF_Markov|AdEx_simple\", regex=True)],\n",
    "    palette=\"blend:#DDDDDD,black\",\n",
    ")\n",
    "g_irr.fig.savefig(\"img/fig/opto_pr_fr_irr.svg\")\n",
    "g_exp.fig.savefig(\"img/fig/opto_pr_fr_exp.svg\")\n"
   ]
  },
  {
   "cell_type": "code",
   "execution_count": 169,
   "metadata": {},
   "outputs": [
    {
     "name": "stderr",
     "output_type": "stream",
     "text": [
      "WARNING    /tmp/ipykernel_29651/749712918.py:14: UserWarning: Boolean Series key will be reindexed to match DataFrame index.\n",
      "  data=data[df.rho_rel == 1],\n",
      " [py.warnings]\n",
      "WARNING    /tmp/ipykernel_29651/749712918.py:19: UserWarning: Boolean Series key will be reindexed to match DataFrame index.\n",
      "  data=data[df['Irr0/Irr0_thres']== 1.2],\n",
      " [py.warnings]\n"
     ]
    },
    {
     "data": {
      "image/png": "[encoded data removed]",
      "text/plain": [
       "<Figure size 229.6x108 with 2 Axes>"
      ]
     },
     "metadata": {
      "needs_background": "light"
     },
     "output_type": "display_data"
    },
    {
     "data": {
      "image/png": "[encoded data removed]",
      "text/plain": [
       "<Figure size 229.6x108 with 2 Axes>"
      ]
     },
     "metadata": {
      "needs_background": "light"
     },
     "output_type": "display_data"
    }
   ],
   "source": [
    "g_irr, g_exp = plot_fr_2panel(\n",
    "    df[df.name.str.contains(\"LIF_Markov|AdEx_simple\", regex=True)],\n",
    "    palette=\"blend:#DDDDDD,black\",\n",
    ")\n",
    "g_irr.fig.savefig(\"img/fig/opto_pr_fr_irr_supp.svg\")\n",
    "g_exp.fig.savefig(\"img/fig/opto_pr_fr_exp_supp.svg\")\n",
    "\n"
   ]
  }
 ],
 "metadata": {
  "interpreter": {
   "hash": "8f8928ae7214af2ed863204def1104b15863af3a242af6eeb8a98dfa023d5722"
  },
  "kernelspec": {
   "display_name": "Python 3.8.12 ('sim')",
   "language": "python",
   "name": "python3"
  },
  "language_info": {
   "codemirror_mode": {
    "name": "ipython",
    "version": 3
   },
   "file_extension": ".py",
   "mimetype": "text/x-python",
   "name": "python",
   "nbconvert_exporter": "python",
   "pygments_lexer": "ipython3",
   "version": "3.8.12"
  },
  "orig_nbformat": 4
 },
 "nbformat": 4,
 "nbformat_minor": 2
}
