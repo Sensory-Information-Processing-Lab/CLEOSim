{
 "cells": [
  {
   "cell_type": "code",
   "execution_count": null,
   "metadata": {},
   "outputs": [],
   "source": [
    "%load_ext autoreload\n",
    "%autoreload 2\n",
    "import matplotlib\n",
    "import matplotlib.pyplot as plt\n",
    "# matplotlib.style.use(['seaborn', 'seaborn-notebook', 'dark_background'])\n",
    "matplotlib.style.use(['seaborn-paper'])\n",
    "matplotlib.rcParams['font.sans-serif'] = \"Open Sans\""
   ]
  }
 ],
 "metadata": {
  "language_info": {
   "name": "python"
  },
  "orig_nbformat": 4
 },
 "nbformat": 4,
 "nbformat_minor": 2
}
