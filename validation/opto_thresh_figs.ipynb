{
 "cells": [
  {
   "cell_type": "markdown",
   "metadata": {},
   "source": [
    "## Threshold irradiance vs. pulse width and distance\n",
    "\n",
    "Here we will replicate figure 3 of Foutz et al., 2012 for different model combos:\n",
    "\n",
    "| Original | Replicated|\n",
    "| - | - |\n",
    "| ![Foutz et al., 2012 Figure 3](img/orig/foutz12_3.jpg) | ![Replication of Foutz et al., 2012 Figure 3](img/repl/foutz12_3.svg)|"
   ]
  },
  {
   "cell_type": "code",
   "execution_count": 1,
   "metadata": {},
   "outputs": [],
   "source": [
    "%load_ext autoreload\n",
    "%autoreload 2\n",
    "import matplotlib\n",
    "import matplotlib.pyplot as plt\n",
    "import seaborn as sns\n",
    "# matplotlib.style.use(['seaborn', 'seaborn-notebook', 'dark_background'])\n",
    "matplotlib.style.use(['seaborn-paper'])\n",
    "matplotlib.rcParams['font.sans-serif'] = \"Open Sans\""
   ]
  },
  {
   "cell_type": "code",
   "execution_count": 2,
   "metadata": {},
   "outputs": [],
   "source": [
    "from cleosim import CLSimulator\n",
    "from cleosim.opto import *\n",
    "from cleosim.coordinates import assign_coords_grid_rect_prism\n",
    "from brian2 import SpikeMonitor, Network, prefs\n",
    "prefs.codegen.target = 'cython'\n",
    "\n",
    "def get_Irr0_thres(pulse_widths, distance_mm, ng, precision=1, simple_opto=False):\n",
    "    mon = SpikeMonitor(ng, record=False)\n",
    "\n",
    "    assign_coords_grid_rect_prism(\n",
    "        ng,\n",
    "        xlim=(0, 0),\n",
    "        ylim=(0, 0),\n",
    "        zlim=(distance_mm, distance_mm),\n",
    "        unit=mm,\n",
    "        shape=(1, 1, 1),\n",
    "    )\n",
    "\n",
    "    net = Network(mon, ng)\n",
    "    sim = CLSimulator(net)\n",
    "\n",
    "    if simple_opto:\n",
    "        opto = OptogeneticIntervention(\n",
    "            name=\"opto\",\n",
    "            opsin_model=ProportionalCurrentModel(\n",
    "                # use 240*(thresh-E_L) factor from tutorial\n",
    "                Iopto_per_mW_per_mm2=15 * (20 * mV) / (500 * Mohm)\n",
    "            ),\n",
    "            light_model_params=default_blue,\n",
    "            location=(0, 0, 0) * mm,\n",
    "        )\n",
    "    else:\n",
    "        opto = OptogeneticIntervention(\n",
    "            name=\"opto\",\n",
    "            opsin_model=FourStateModel(ChR2_four_state),\n",
    "            light_model_params=default_blue,\n",
    "            location=(0, 0, 0) * mm,\n",
    "        )\n",
    "    sim.inject_stimulator(opto, ng)\n",
    "\n",
    "    sim.network.store()\n",
    "    Irr0_thres = []\n",
    "    for pw in pulse_widths:\n",
    "        search_min, search_max = (0, 10000)\n",
    "        while (\n",
    "            search_max - search_min > precision\n",
    "        ):  # get down to {precision} mW/mm2 margin\n",
    "            sim.network.restore()\n",
    "            Irr0_curr = (search_min + search_max) / 2\n",
    "            opto.update(Irr0_curr)\n",
    "            sim.run(pw * ms)\n",
    "            opto.update(0)\n",
    "            sim.run(10 * ms)  # wait 10 ms to make sure only 1 spike\n",
    "            if mon.count > 0:  # spiked\n",
    "                search_max = Irr0_curr\n",
    "            else:\n",
    "                search_min = Irr0_curr\n",
    "        Irr0_thres.append(Irr0_curr)\n",
    "\n",
    "    return Irr0_thres\n"
   ]
  },
  {
   "cell_type": "markdown",
   "metadata": {},
   "source": [
    "We prepare a pandas dataframe in tidy format:"
   ]
  },
  {
   "cell_type": "code",
   "execution_count": 3,
   "metadata": {},
   "outputs": [
    {
     "data": {
      "text/html": [
       "<div>\n",
       "<style scoped>\n",
       "    .dataframe tbody tr th:only-of-type {\n",
       "        vertical-align: middle;\n",
       "    }\n",
       "\n",
       "    .dataframe tbody tr th {\n",
       "        vertical-align: top;\n",
       "    }\n",
       "\n",
       "    .dataframe thead th {\n",
       "        text-align: right;\n",
       "    }\n",
       "</style>\n",
       "<table border=\"1\" class=\"dataframe\">\n",
       "  <thead>\n",
       "    <tr style=\"text-align: right;\">\n",
       "      <th></th>\n",
       "      <th>name</th>\n",
       "      <th>distance</th>\n",
       "      <th>pulse_width</th>\n",
       "      <th>threshold</th>\n",
       "    </tr>\n",
       "  </thead>\n",
       "  <tbody>\n",
       "  </tbody>\n",
       "</table>\n",
       "</div>"
      ],
      "text/plain": [
       "Empty DataFrame\n",
       "Columns: [name, distance, pulse_width, threshold]\n",
       "Index: []"
      ]
     },
     "execution_count": 3,
     "metadata": {},
     "output_type": "execute_result"
    }
   ],
   "source": [
    "import pandas as pd\n",
    "df = pd.DataFrame(columns=[\"name\", \"distance\", \"pulse_width\", \"threshold\"])\n",
    "df"
   ]
  },
  {
   "cell_type": "markdown",
   "metadata": {},
   "source": [
    "We need to get the original data for comparison:"
   ]
  },
  {
   "cell_type": "code",
   "execution_count": 4,
   "metadata": {},
   "outputs": [
    {
     "data": {
      "text/html": [
       "<div>\n",
       "<style scoped>\n",
       "    .dataframe tbody tr th:only-of-type {\n",
       "        vertical-align: middle;\n",
       "    }\n",
       "\n",
       "    .dataframe tbody tr th {\n",
       "        vertical-align: top;\n",
       "    }\n",
       "\n",
       "    .dataframe thead th {\n",
       "        text-align: right;\n",
       "    }\n",
       "</style>\n",
       "<table border=\"1\" class=\"dataframe\">\n",
       "  <thead>\n",
       "    <tr style=\"text-align: right;\">\n",
       "      <th></th>\n",
       "      <th>1.5 mm</th>\n",
       "      <th>Unnamed: 1</th>\n",
       "      <th>1 mm</th>\n",
       "      <th>Unnamed: 3</th>\n",
       "      <th>0.5 mm</th>\n",
       "      <th>Unnamed: 5</th>\n",
       "    </tr>\n",
       "  </thead>\n",
       "  <tbody>\n",
       "    <tr>\n",
       "      <th>0</th>\n",
       "      <td>X</td>\n",
       "      <td>Y</td>\n",
       "      <td>X</td>\n",
       "      <td>Y</td>\n",
       "      <td>X</td>\n",
       "      <td>Y</td>\n",
       "    </tr>\n",
       "    <tr>\n",
       "      <th>1</th>\n",
       "      <td>2.8036529680365296</td>\n",
       "      <td>2004.8387096774195</td>\n",
       "      <td>1.4155251141552503</td>\n",
       "      <td>2000</td>\n",
       "      <td>0.6392694063926934</td>\n",
       "      <td>2000</td>\n",
       "    </tr>\n",
       "    <tr>\n",
       "      <th>2</th>\n",
       "      <td>2.9132420091324196</td>\n",
       "      <td>1830.6451612903227</td>\n",
       "      <td>1.5981735159817338</td>\n",
       "      <td>1554.8387096774195</td>\n",
       "      <td>0.6849315068493147</td>\n",
       "      <td>1666.1290322580646</td>\n",
       "    </tr>\n",
       "    <tr>\n",
       "      <th>3</th>\n",
       "      <td>3.1050228310502277</td>\n",
       "      <td>1661.2903225806454</td>\n",
       "      <td>1.9726027397260264</td>\n",
       "      <td>1061.2903225806451</td>\n",
       "      <td>0.7853881278538806</td>\n",
       "      <td>1322.5806451612905</td>\n",
       "    </tr>\n",
       "    <tr>\n",
       "      <th>4</th>\n",
       "      <td>3.4063926940639266</td>\n",
       "      <td>1438.7096774193549</td>\n",
       "      <td>2.5114155251141543</td>\n",
       "      <td>679.0322580645161</td>\n",
       "      <td>0.8812785388127846</td>\n",
       "      <td>1032.258064516129</td>\n",
       "    </tr>\n",
       "  </tbody>\n",
       "</table>\n",
       "</div>"
      ],
      "text/plain": [
       "               1.5 mm          Unnamed: 1                1 mm  \\\n",
       "0                   X                   Y                   X   \n",
       "1  2.8036529680365296  2004.8387096774195  1.4155251141552503   \n",
       "2  2.9132420091324196  1830.6451612903227  1.5981735159817338   \n",
       "3  3.1050228310502277  1661.2903225806454  1.9726027397260264   \n",
       "4  3.4063926940639266  1438.7096774193549  2.5114155251141543   \n",
       "\n",
       "           Unnamed: 3              0.5 mm          Unnamed: 5  \n",
       "0                   Y                   X                   Y  \n",
       "1                2000  0.6392694063926934                2000  \n",
       "2  1554.8387096774195  0.6849315068493147  1666.1290322580646  \n",
       "3  1061.2903225806451  0.7853881278538806  1322.5806451612905  \n",
       "4   679.0322580645161  0.8812785388127846   1032.258064516129  "
      ]
     },
     "execution_count": 4,
     "metadata": {},
     "output_type": "execute_result"
    }
   ],
   "source": [
    "wpd_data = pd.read_csv('data/foutz12_3_wpd.csv')\n",
    "wpd_data.head()"
   ]
  },
  {
   "cell_type": "code",
   "execution_count": 5,
   "metadata": {},
   "outputs": [],
   "source": [
    "for i_col in [0, 2, 4]:\n",
    "    for i_row in range(1, len(wpd_data)):\n",
    "        if pd.isna(wpd_data.iloc[i_row, i_col]):\n",
    "            continue\n",
    "        df.loc[len(df)] = [\n",
    "            \"Foutz et al., 2012\",\n",
    "            wpd_data.columns[i_col],\n",
    "            wpd_data.iloc[i_row, i_col],\n",
    "            wpd_data.iloc[i_row, i_col + 1],\n",
    "        ]\n",
    "df.pulse_width = df.pulse_width.astype(float)\n",
    "df.threshold = df.threshold.astype(float)\n"
   ]
  },
  {
   "cell_type": "code",
   "execution_count": 6,
   "metadata": {},
   "outputs": [
    {
     "data": {
      "text/html": [
       "<div>\n",
       "<style scoped>\n",
       "    .dataframe tbody tr th:only-of-type {\n",
       "        vertical-align: middle;\n",
       "    }\n",
       "\n",
       "    .dataframe tbody tr th {\n",
       "        vertical-align: top;\n",
       "    }\n",
       "\n",
       "    .dataframe thead th {\n",
       "        text-align: right;\n",
       "    }\n",
       "</style>\n",
       "<table border=\"1\" class=\"dataframe\">\n",
       "  <thead>\n",
       "    <tr style=\"text-align: right;\">\n",
       "      <th></th>\n",
       "      <th>name</th>\n",
       "      <th>distance</th>\n",
       "      <th>pulse_width</th>\n",
       "      <th>threshold</th>\n",
       "    </tr>\n",
       "  </thead>\n",
       "  <tbody>\n",
       "    <tr>\n",
       "      <th>41</th>\n",
       "      <td>Foutz et al., 2012</td>\n",
       "      <td>0.5 mm</td>\n",
       "      <td>4.365297</td>\n",
       "      <td>54.838710</td>\n",
       "    </tr>\n",
       "    <tr>\n",
       "      <th>42</th>\n",
       "      <td>Foutz et al., 2012</td>\n",
       "      <td>0.5 mm</td>\n",
       "      <td>5.132420</td>\n",
       "      <td>40.322581</td>\n",
       "    </tr>\n",
       "    <tr>\n",
       "      <th>43</th>\n",
       "      <td>Foutz et al., 2012</td>\n",
       "      <td>0.5 mm</td>\n",
       "      <td>5.707763</td>\n",
       "      <td>35.483871</td>\n",
       "    </tr>\n",
       "    <tr>\n",
       "      <th>44</th>\n",
       "      <td>Foutz et al., 2012</td>\n",
       "      <td>0.5 mm</td>\n",
       "      <td>6.730594</td>\n",
       "      <td>11.290323</td>\n",
       "    </tr>\n",
       "    <tr>\n",
       "      <th>45</th>\n",
       "      <td>Foutz et al., 2012</td>\n",
       "      <td>0.5 mm</td>\n",
       "      <td>9.990868</td>\n",
       "      <td>6.451613</td>\n",
       "    </tr>\n",
       "  </tbody>\n",
       "</table>\n",
       "</div>"
      ],
      "text/plain": [
       "                  name distance  pulse_width  threshold\n",
       "41  Foutz et al., 2012   0.5 mm     4.365297  54.838710\n",
       "42  Foutz et al., 2012   0.5 mm     5.132420  40.322581\n",
       "43  Foutz et al., 2012   0.5 mm     5.707763  35.483871\n",
       "44  Foutz et al., 2012   0.5 mm     6.730594  11.290323\n",
       "45  Foutz et al., 2012   0.5 mm     9.990868   6.451613"
      ]
     },
     "execution_count": 6,
     "metadata": {},
     "output_type": "execute_result"
    }
   ],
   "source": [
    "df.tail()"
   ]
  },
  {
   "cell_type": "code",
   "execution_count": 7,
   "metadata": {},
   "outputs": [
    {
     "data": {
      "image/png": "[encoded data removed]",
      "text/plain": [
       "<Figure size 417.05x360 with 1 Axes>"
      ]
     },
     "metadata": {
      "needs_background": "light"
     },
     "output_type": "display_data"
    }
   ],
   "source": [
    "def plot_thresh(data):\n",
    "    sns.relplot(\n",
    "        data=data,\n",
    "        kind=\"line\",\n",
    "        col='name',\n",
    "        x=\"pulse_width\",\n",
    "        y=\"threshold\",\n",
    "        units=\"distance\",\n",
    "        style=\"distance\",\n",
    "        estimator=None,\n",
    "    )\n",
    "\n",
    "plot_thresh(df)"
   ]
  },
  {
   "cell_type": "markdown",
   "metadata": {},
   "source": [
    "Looks right. Time to test the models."
   ]
  },
  {
   "cell_type": "code",
   "execution_count": 8,
   "metadata": {},
   "outputs": [
    {
     "name": "stderr",
     "output_type": "stream",
     "text": [
      "INFO       No numerical integration method specified for group 'LIF', using method 'exact' (took 0.15s). [brian2.stateupdaters.base.method_choice]\n",
      "INFO       No numerical integration method specified for group 'AdEx', using method 'euler' (took 0.01s, trying other methods took 0.06s). [brian2.stateupdaters.base.method_choice]\n"
     ]
    }
   ],
   "source": [
    "from opto_val import lif, adex\n",
    "\n",
    "data_already_generated = False\n",
    "if not data_already_generated:\n",
    "    pulse_widths = np.arange(0.2, 10.2, 0.2)\n",
    "    for ng_constructor in [lif, adex]:\n",
    "        for simple_opto in [True, False]:\n",
    "            for dist in [1.5, 1, 0.5]:\n",
    "                ng = ng_constructor(1)\n",
    "                Irr0_thres = get_Irr0_thres(pulse_widths, dist, ng, simple_opto=simple_opto)\n",
    "                opsin_name = \"simple\" if simple_opto else \"Markov\"\n",
    "                name = f\"{ng.name} + {opsin_name} opsin\"\n",
    "                df = pd.concat(\n",
    "                    [\n",
    "                        df,\n",
    "                        pd.DataFrame(\n",
    "                            {\n",
    "                                \"name\": name,\n",
    "                                \"distance\": f\"{dist} mm\",\n",
    "                                \"pulse_width\": pulse_widths,\n",
    "                                \"threshold\": Irr0_thres,\n",
    "                            }\n",
    "                        ),\n",
    "                    ]\n",
    "                )\n",
    "    df = df.reset_index(drop=True)\n",
    "    df.to_csv(\"data/thresholds.csv\", index=False)\n",
    "    data_already_generated = True\n",
    "    df.tail()"
   ]
  },
  {
   "cell_type": "code",
   "execution_count": 16,
   "metadata": {},
   "outputs": [
    {
     "data": {
      "text/html": [
       "<div>\n",
       "<style scoped>\n",
       "    .dataframe tbody tr th:only-of-type {\n",
       "        vertical-align: middle;\n",
       "    }\n",
       "\n",
       "    .dataframe tbody tr th {\n",
       "        vertical-align: top;\n",
       "    }\n",
       "\n",
       "    .dataframe thead th {\n",
       "        text-align: right;\n",
       "    }\n",
       "</style>\n",
       "<table border=\"1\" class=\"dataframe\">\n",
       "  <thead>\n",
       "    <tr style=\"text-align: right;\">\n",
       "      <th></th>\n",
       "      <th>name</th>\n",
       "      <th>distance</th>\n",
       "      <th>pulse_width</th>\n",
       "      <th>threshold</th>\n",
       "    </tr>\n",
       "  </thead>\n",
       "  <tbody>\n",
       "    <tr>\n",
       "      <th>0</th>\n",
       "      <td>Foutz et al., 2012</td>\n",
       "      <td>1.5 mm</td>\n",
       "      <td>2.803653</td>\n",
       "      <td>2004.838710</td>\n",
       "    </tr>\n",
       "    <tr>\n",
       "      <th>1</th>\n",
       "      <td>Foutz et al., 2012</td>\n",
       "      <td>1.5 mm</td>\n",
       "      <td>2.913242</td>\n",
       "      <td>1830.645161</td>\n",
       "    </tr>\n",
       "    <tr>\n",
       "      <th>2</th>\n",
       "      <td>Foutz et al., 2012</td>\n",
       "      <td>1.5 mm</td>\n",
       "      <td>3.105023</td>\n",
       "      <td>1661.290323</td>\n",
       "    </tr>\n",
       "    <tr>\n",
       "      <th>3</th>\n",
       "      <td>Foutz et al., 2012</td>\n",
       "      <td>1.5 mm</td>\n",
       "      <td>3.406393</td>\n",
       "      <td>1438.709677</td>\n",
       "    </tr>\n",
       "    <tr>\n",
       "      <th>4</th>\n",
       "      <td>Foutz et al., 2012</td>\n",
       "      <td>1.5 mm</td>\n",
       "      <td>3.643836</td>\n",
       "      <td>1264.516129</td>\n",
       "    </tr>\n",
       "    <tr>\n",
       "      <th>...</th>\n",
       "      <td>...</td>\n",
       "      <td>...</td>\n",
       "      <td>...</td>\n",
       "      <td>...</td>\n",
       "    </tr>\n",
       "    <tr>\n",
       "      <th>641</th>\n",
       "      <td>AdEx neuron\\nMarkov opsin</td>\n",
       "      <td>0.5 mm</td>\n",
       "      <td>9.200000</td>\n",
       "      <td>1.831055</td>\n",
       "    </tr>\n",
       "    <tr>\n",
       "      <th>642</th>\n",
       "      <td>AdEx neuron\\nMarkov opsin</td>\n",
       "      <td>0.5 mm</td>\n",
       "      <td>9.400000</td>\n",
       "      <td>1.831055</td>\n",
       "    </tr>\n",
       "    <tr>\n",
       "      <th>643</th>\n",
       "      <td>AdEx neuron\\nMarkov opsin</td>\n",
       "      <td>0.5 mm</td>\n",
       "      <td>9.600000</td>\n",
       "      <td>1.831055</td>\n",
       "    </tr>\n",
       "    <tr>\n",
       "      <th>644</th>\n",
       "      <td>AdEx neuron\\nMarkov opsin</td>\n",
       "      <td>0.5 mm</td>\n",
       "      <td>9.800000</td>\n",
       "      <td>1.831055</td>\n",
       "    </tr>\n",
       "    <tr>\n",
       "      <th>645</th>\n",
       "      <td>AdEx neuron\\nMarkov opsin</td>\n",
       "      <td>0.5 mm</td>\n",
       "      <td>10.000000</td>\n",
       "      <td>1.831055</td>\n",
       "    </tr>\n",
       "  </tbody>\n",
       "</table>\n",
       "<p>646 rows × 4 columns</p>\n",
       "</div>"
      ],
      "text/plain": [
       "                          name distance  pulse_width    threshold\n",
       "0           Foutz et al., 2012   1.5 mm     2.803653  2004.838710\n",
       "1           Foutz et al., 2012   1.5 mm     2.913242  1830.645161\n",
       "2           Foutz et al., 2012   1.5 mm     3.105023  1661.290323\n",
       "3           Foutz et al., 2012   1.5 mm     3.406393  1438.709677\n",
       "4           Foutz et al., 2012   1.5 mm     3.643836  1264.516129\n",
       "..                         ...      ...          ...          ...\n",
       "641  AdEx neuron\\nMarkov opsin   0.5 mm     9.200000     1.831055\n",
       "642  AdEx neuron\\nMarkov opsin   0.5 mm     9.400000     1.831055\n",
       "643  AdEx neuron\\nMarkov opsin   0.5 mm     9.600000     1.831055\n",
       "644  AdEx neuron\\nMarkov opsin   0.5 mm     9.800000     1.831055\n",
       "645  AdEx neuron\\nMarkov opsin   0.5 mm    10.000000     1.831055\n",
       "\n",
       "[646 rows x 4 columns]"
      ]
     },
     "execution_count": 16,
     "metadata": {},
     "output_type": "execute_result"
    }
   ],
   "source": [
    "df = pd.read_csv('data/thresholds.csv')\n",
    "df.name = df.name.replace(regex=r' \\+ ', value='\\n')\n",
    "df.name = df.name.replace(regex=r'LIF', value='LIF neuron')\n",
    "df.name = df.name.replace(regex=r'AdEx', value='AdEx neuron')\n",
    "df"
   ]
  },
  {
   "cell_type": "code",
   "execution_count": 20,
   "metadata": {},
   "outputs": [
    {
     "data": {
      "text/plain": [
       "<seaborn.axisgrid.FacetGrid at 0x7f396d29e940>"
      ]
     },
     "execution_count": 20,
     "metadata": {},
     "output_type": "execute_result"
    },
    {
     "data": {
      "image/png": "[encoded data removed]",
      "text/plain": [
       "<Figure size 675.375x129.6 with 5 Axes>"
      ]
     },
     "metadata": {
      "needs_background": "light"
     },
     "output_type": "display_data"
    }
   ],
   "source": [
    "plot_thresh(df, 'mako')"
   ]
  },
  {
   "cell_type": "markdown",
   "metadata": {},
   "source": [
    "## Main figure\n",
    "With original, LIF+simple, and AdEx+Markov"
   ]
  },
  {
   "cell_type": "code",
   "execution_count": null,
   "metadata": {},
   "outputs": [
    {
     "data": {
      "image/png": "[encoded data removed]",
      "text/plain": [
       "<Figure size 442.095x129.6 with 3 Axes>"
      ]
     },
     "metadata": {
      "needs_background": "light"
     },
     "output_type": "display_data"
    }
   ],
   "source": [
    "def plot_thresh(data, palette):\n",
    "    g = sns.relplot(\n",
    "        data=data,\n",
    "        kind=\"line\",\n",
    "        col=\"name\",\n",
    "        x=\"pulse_width\",\n",
    "        y=\"threshold\",\n",
    "        style=\"distance\",\n",
    "        style_order=[\"0.5 mm\", \"1 mm\", \"1.5 mm\"],\n",
    "        hue=\"name\",\n",
    "        estimator=None,\n",
    "        height=1.8,\n",
    "        aspect=0.9,\n",
    "        palette=palette,\n",
    "    )\n",
    "    g.set(ylim=(0, 2000))\n",
    "    g.set_titles(col_template=\"{col_name}\")\n",
    "    return g\n",
    "\n",
    "\n",
    "g = plot_thresh(\n",
    "    df[~df.name.str.contains(\"LIF\\nMarkov opsin|AdEx\\nsimple opsin\", regex=True)],\n",
    "    palette=[\"k\", \"k\", \"k\"],\n",
    ")\n",
    "g.set_axis_labels(\"\", \"Threshold irradiance\\n(mW/mm$^2$)\")\n",
    "g.axes[0, 1].set_xlabel(\"Pulse width (ms)\")\n",
    "g.legend.remove()\n",
    "g.fig.legend(\n",
    "    handles=g.legend.legendHandles[-3:],\n",
    "    bbox_to_anchor=(0.93, 0.5),\n",
    "    loc=\"center right\",\n",
    "    title=\"distance\",\n",
    ")\n",
    "g.fig.savefig('img/fig/opto_thresh_main.svg')"
   ]
  },
  {
   "cell_type": "code",
   "execution_count": null,
   "metadata": {},
   "outputs": [
    {
     "data": {
      "image/png": "[encoded data removed]",
      "text/plain": [
       "<Figure size 312.705x129.6 with 2 Axes>"
      ]
     },
     "metadata": {
      "needs_background": "light"
     },
     "output_type": "display_data"
    }
   ],
   "source": [
    "g = plot_thresh(df[df.name.str.contains('LIF\\nMarkov opsin|AdEx\\nsimple opsin', regex=True)], palette=['k', 'k'])\n",
    "g.set_axis_labels(\"Pulse width (ms)\", \"Threshold irradiance\\n(mW/mm$^2$)\")\n",
    "# g.axes[0, 1].set_xlabel(\"Pulse width (ms)\")\n",
    "g.legend.remove()\n",
    "g.fig.legend(handles=g.legend.legendHandles[-3:], bbox_to_anchor=(.93, 0.5), loc='center right', title='distance')\n",
    "g.fig.savefig('img/fig/opto_thresh_supp.svg')"
   ]
  }
 ],
 "metadata": {
  "interpreter": {
   "hash": "8f8928ae7214af2ed863204def1104b15863af3a242af6eeb8a98dfa023d5722"
  },
  "kernelspec": {
   "display_name": "Python 3.8.12 ('sim')",
   "language": "python",
   "name": "python3"
  },
  "language_info": {
   "codemirror_mode": {
    "name": "ipython",
    "version": 3
   },
   "file_extension": ".py",
   "mimetype": "text/x-python",
   "name": "python",
   "nbconvert_exporter": "python",
   "pygments_lexer": "ipython3",
   "version": "3.8.12"
  },
  "orig_nbformat": 4
 },
 "nbformat": 4,
 "nbformat_minor": 2
}
