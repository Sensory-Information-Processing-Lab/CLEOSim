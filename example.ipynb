{
 "cells": [
  {
   "cell_type": "markdown",
   "metadata": {},
   "source": [
    "# Example CLOC Simulation"
   ]
  },
  {
   "cell_type": "code",
   "execution_count": null,
   "metadata": {},
   "outputs": [],
   "source": [
    "from brian2 import *\n",
    "from clocsim.base import CLOCSimulator\n"
   ]
  },
  {
   "cell_type": "markdown",
   "metadata": {},
   "source": [
    "## Set up network"
   ]
  },
  {
   "cell_type": "code",
   "execution_count": null,
   "metadata": {},
   "outputs": [],
   "source": [
    "# a group to record from, receiving Poisson input\n",
    "recording_group = NeuronGroup(100, '''\n",
    "        dv/dt = -v / tau : volt\n",
    "        tau: second\n",
    "''')\n",
    "recording_group.tau = 10*ms\n",
    "\n",
    "input_group = PoissonGroup(100, np.arange(100)*Hz + 10*Hz)\n",
    "\n",
    "S = Synapses(input_group, recording_group, on_pre='v+=0.1*mV')\n",
    "S.connect(j='i')\n",
    "\n",
    "## a group to control\n",
    "control_group = NeuronGroup(100, '''dv/dt = -v / tau : volt\n",
    "                                    tau: second''')\n",
    "control_group.tau = 11*ms\n",
    "\n",
    "mon = StateMonitor(control_group, 'v', record=True)\n"
   ]
  },
  {
   "cell_type": "markdown",
   "metadata": {},
   "source": [
    "## Run simulation"
   ]
  },
  {
   "cell_type": "code",
   "execution_count": null,
   "metadata": {},
   "outputs": [],
   "source": [
    "net = Network(collect())\n",
    "net.run(500*ms)"
   ]
  }
 ],
 "metadata": {
  "language_info": {
   "codemirror_mode": {
    "name": "ipython",
    "version": 3
   },
   "file_extension": ".py",
   "mimetype": "text/x-python",
   "name": "python",
   "nbconvert_exporter": "python",
   "pygments_lexer": "ipython3",
   "version": 3
  },
  "orig_nbformat": 2
 },
 "nbformat": 4,
 "nbformat_minor": 2
}